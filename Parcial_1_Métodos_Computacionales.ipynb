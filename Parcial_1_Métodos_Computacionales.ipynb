{
  "nbformat": 4,
  "nbformat_minor": 0,
  "metadata": {
    "colab": {
      "provenance": [],
      "include_colab_link": true
    },
    "kernelspec": {
      "name": "python3",
      "display_name": "Python 3"
    },
    "language_info": {
      "name": "python"
    }
  },
  "cells": [
    {
      "cell_type": "markdown",
      "metadata": {
        "id": "view-in-github",
        "colab_type": "text"
      },
      "source": [
        "<a href=\"https://colab.research.google.com/github/grodriguez1123/Metodos1_AndreaRocha_GabrielaRodriguez/blob/main/Parcial_1_M%C3%A9todos_Computacionales.ipynb\" target=\"_parent\"><img src=\"https://colab.research.google.com/assets/colab-badge.svg\" alt=\"Open In Colab\"/></a>"
      ]
    },
    {
      "cell_type": "code",
      "source": [
        "import numpy as np\n",
        "import matplotlib.pyplot as plt\n",
        "import sympy as sym"
      ],
      "metadata": {
        "id": "-4Qs8_SSe8MP"
      },
      "execution_count": 1,
      "outputs": []
    },
    {
      "cell_type": "markdown",
      "source": [
        "7: Minimización del camino óptico"
      ],
      "metadata": {
        "id": "EJaoAi27HerK"
      }
    },
    {
      "cell_type": "markdown",
      "source": [
        "a. (Theoretical) Muestre que el tiempo de viaje t(x) y por tanto el camino ´optico\n",
        "ct(x) del pulso de luz est´a dado por:"
      ],
      "metadata": {
        "id": "uw45QlBsHuo0"
      }
    },
    {
      "cell_type": "markdown",
      "source": [
        "b) Implemente la funci´on camino ´optico en Python y grafiquelo para algunos valores de x. Antes de nada, identifique cualitativamente el lugar donde se minimiza el tiempo de viaje del pulso.\n"
      ],
      "metadata": {
        "id": "FVzpykPvIQs6"
      }
    },
    {
      "cell_type": "code",
      "source": [
        "import numpy as np\n",
        "import matplotlib.pyplot as plt"
      ],
      "metadata": {
        "id": "QxMzR1x3Jxt0"
      },
      "execution_count": 2,
      "outputs": []
    },
    {
      "cell_type": "code",
      "execution_count": 3,
      "metadata": {
        "colab": {
          "base_uri": "https://localhost:8080/",
          "height": 522
        },
        "id": "t9QVzZFbHYrh",
        "outputId": "870f481e-9676-4040-cc3c-56bdd95cb5eb"
      },
      "outputs": [
        {
          "output_type": "display_data",
          "data": {
            "text/plain": [
              "<Figure size 800x600 with 1 Axes>"
            ],
            "image/png": "[encoded data removed]"
          },
          "metadata": {}
        }
      ],
      "source": [
        "T = np.array([-3, 2])\n",
        "R = np.array([2, -2])\n",
        "n0 = 1\n",
        "n1 = 1.33\n",
        "\n",
        "def camino_optimo(x):\n",
        "\n",
        "    term1 = n0 * np.sqrt((x - T[0])**2 + T[1]**2)\n",
        "    term2 = n1 * np.sqrt((x - R[0])**2 + R[1]**2)\n",
        "    return term1 + term2\n",
        "\n",
        "x_vals = np.linspace(T[1], R[1], 20)\n",
        "t_vals = camino_optimo(x_vals)\n",
        "\n",
        "\n",
        "plt.figure(figsize=(8, 6))\n",
        "plt.scatter(x_vals, t_vals, label=\"Tiempo de viaje del pulso de luz\")\n",
        "plt.show()\n"
      ]
    },
    {
      "cell_type": "code",
      "source": [
        "def Derivative(f,x,h=1e-5):\n",
        "  return (f(x+h)-f(x-h))/(2*h)\n",
        "\n",
        "def Derivative2(f,x,h=1e-5):\n",
        "  return (f(x+h)-2*f(x)+f(x-h))/(h**2)\n",
        "\n",
        "def GetNewtonMethod(f,xn,itmax=100,precision=1e-9):\n",
        "\n",
        "  error = 1\n",
        "  it = 0\n",
        "\n",
        "  while error > precision and it < itmax:\n",
        "    try:\n",
        "      xn1 = xn - Derivative(f,xn)/Derivative2(f,xn)\n",
        "      error = np.abs(Derivative(f,xn)/Derivative2(f,xn))\n",
        "    except ZeroDivisionError:\n",
        "      print('Division by zero error')\n",
        "    xn = xn1\n",
        "    it += 1\n",
        "\n",
        "  if it == itmax:\n",
        "    return False\n",
        "  else:\n",
        "    return xn\n",
        "\n",
        "x0 = (T[0] + R[0]) / 2\n",
        "x_min = GetNewtonMethod(camino_optimo,x0)\n",
        "t_min = camino_optimo(x_min)\n",
        "print(x_min,t_min)\n",
        "\n",
        "alpha_0 = np.arctan(T[1] / (x_min - T[0]))\n",
        "alpha_1 =-1*(np.arctan((R[1]) / (R[0] - x_min)))\n",
        "sin_alpha_0 = np.sin(alpha_0)\n",
        "sin_alpha_1 = np.sin(alpha_1)\n",
        "\n",
        "verificar_snell = np.isclose(sin_alpha_0, 1.33 * sin_alpha_1, rtol=1e-5)\n",
        "\n",
        "print(f\"Ángulo de incidencia α0: {np.degrees(alpha_0):.2f} grados\")\n",
        "print(f\"Ángulo de refracción α1: {np.degrees(alpha_1):.2f} grados\")\n",
        "print(f\"¿Cumple la Ley de Snell?: {verificar_snell}\")"
      ],
      "metadata": {
        "colab": {
          "base_uri": "https://localhost:8080/"
        },
        "id": "lmT-Cy9RKxlN",
        "outputId": "224c496b-e9ed-45b5-adbd-cddf6f9a6338"
      },
      "execution_count": 4,
      "outputs": [
        {
          "output_type": "stream",
          "name": "stdout",
          "text": [
            "0.3169057571073043 7.349795676886238\n",
            "Ángulo de incidencia α0: 31.09 grados\n",
            "Ángulo de refracción α1: 49.92 grados\n",
            "¿Cumple la Ley de Snell?: False\n"
          ]
        }
      ]
    },
    {
      "cell_type": "markdown",
      "source": [
        "5: Raíces de los primeros 5 polinomios de Laguerre"
      ],
      "metadata": {
        "id": "8HfdbRg1e1h1"
      }
    },
    {
      "cell_type": "code",
      "source": [
        "def GetNewtonMethod(f,df,xn,itmax = 10000, precision=1e-14):\n",
        "\n",
        "    error = 1.\n",
        "    it = 0\n",
        "    while error >= precision and it < itmax:\n",
        "        try:\n",
        "            xn1 = xn - f(xn)/df(xn)\n",
        "\n",
        "            error = np.abs( (xn1-xn)/xn )\n",
        "           # error = np.abs(f(xn)/df(xn))\n",
        "\n",
        "        except ZeroDivisionError:\n",
        "            print(\"zero division\")\n",
        "        xn  = xn1\n",
        "        it += 1\n",
        "\n",
        "    if it == itmax:\n",
        "        return False\n",
        "    else:\n",
        "        return xn"
      ],
      "metadata": {
        "id": "rnqTqNl2Si9q"
      },
      "execution_count": 5,
      "outputs": []
    },
    {
      "cell_type": "code",
      "source": [
        "def GetAllRoots(f,df,x, tolerancia=13):\n",
        "\n",
        "    Roots = np.array([])\n",
        "\n",
        "    for i in x:\n",
        "\n",
        "        root = GetNewtonMethod(f,df,i)\n",
        "\n",
        "        if root != False:\n",
        "\n",
        "            croot = np.round( root, tolerancia )\n",
        "\n",
        "            if croot not in Roots:\n",
        "                Roots = np.append( Roots, croot )\n",
        "\n",
        "\n",
        "    Roots.sort()\n",
        "\n",
        "    return Roots"
      ],
      "metadata": {
        "id": "LdMR4GRnfGS6"
      },
      "execution_count": 6,
      "outputs": []
    },
    {
      "cell_type": "code",
      "source": [
        "def GetLaguerre(n):\n",
        "\n",
        "  x = sym.Symbol('x',Real=True)\n",
        "  y = sym.Symbol('y',Real=True)\n",
        "\n",
        "  y = (x**n)*(sym.exp(-x))\n",
        "\n",
        "  p = sym.diff(y,x,n)*(sym.exp(x)/np.math.factorial(n))\n",
        "\n",
        "  return p"
      ],
      "metadata": {
        "id": "-HKY6Yx9fI44"
      },
      "execution_count": 7,
      "outputs": []
    },
    {
      "cell_type": "code",
      "source": [
        "Laguerre = []\n",
        "DLaguerre = []\n",
        "\n",
        "x = sym.Symbol('x',Real=True)\n",
        "n=5\n",
        "\n",
        "for i in range(n+1):\n",
        "\n",
        "    poly = GetLaguerre(i)\n",
        "\n",
        "    Laguerre.append(poly)\n",
        "    DLaguerre.append(sym.diff(poly,x))"
      ],
      "metadata": {
        "colab": {
          "base_uri": "https://localhost:8080/"
        },
        "id": "IDwC4T6hfLvo",
        "outputId": "7417724e-f8f7-4597-eed5-3bed5e825ef7"
      },
      "execution_count": 8,
      "outputs": [
        {
          "output_type": "stream",
          "name": "stderr",
          "text": [
            "<ipython-input-7-3757e721f8df>:8: DeprecationWarning: `np.math` is a deprecated alias for the standard library `math` module (Deprecated Numpy 1.25). Replace usages of `np.math` with `math`\n",
            "  p = sym.diff(y,x,n)*(sym.exp(x)/np.math.factorial(n))\n"
          ]
        }
      ]
    },
    {
      "cell_type": "code",
      "source": [
        "def GetRootsPolynomial(n,xi,poly,dpoly):\n",
        "\n",
        "    x = sym.Symbol('x',Real=True)\n",
        "    pn = sym.lambdify([x],poly[n],'numpy')\n",
        "    dpn = sym.lambdify([x],dpoly[n],'numpy')\n",
        "    Roots = GetAllRoots(pn,dpn,xi)\n",
        "\n",
        "    return Roots"
      ],
      "metadata": {
        "id": "1uUFfRotfUhv"
      },
      "execution_count": 9,
      "outputs": []
    },
    {
      "cell_type": "code",
      "source": [
        "xi = np.linspace(-100,100,100,dtype=np.longdouble)\n",
        "Roots = []\n",
        "\n",
        "for i in range(5):\n",
        "  Roots.append(GetRootsPolynomial(i+1,xi,Laguerre,DLaguerre))"
      ],
      "metadata": {
        "id": "5Ia9GTlyfWnn"
      },
      "execution_count": 10,
      "outputs": []
    },
    {
      "cell_type": "code",
      "source": [
        "#Respuesta\n",
        "Roots"
      ],
      "metadata": {
        "colab": {
          "base_uri": "https://localhost:8080/"
        },
        "id": "lQB9sIqTfZP8",
        "outputId": "9091be80-70e5-4fa0-827c-552415bf1f2c"
      },
      "execution_count": 11,
      "outputs": [
        {
          "output_type": "execute_result",
          "data": {
            "text/plain": [
              "[array([1.], dtype=float128),\n",
              " array([0.58578644, 3.41421356], dtype=float128),\n",
              " array([0.41577456, 2.29428036, 6.28994508], dtype=float128),\n",
              " array([0.32254769, 4.5366203 , 9.39507091], dtype=float128),\n",
              " array([ 0.26356032,  1.41340306,  3.59642577,  7.08581001, 12.64080084],\n",
              "       dtype=float128)]"
            ]
          },
          "metadata": {},
          "execution_count": 11
        }
      ]
    },
    {
      "cell_type": "markdown",
      "source": [
        "Pregunta 7"
      ],
      "metadata": {
        "id": "HKoEkPCZfjJc"
      }
    },
    {
      "cell_type": "code",
      "source": [
        "#A\n",
        "\n",
        "X = np.array([0,(np.pi/3),(np.pi/2)])\n",
        "Y = np.sin(X)\n",
        "\n",
        "plt.scatter(X,Y,color='r')"
      ],
      "metadata": {
        "colab": {
          "base_uri": "https://localhost:8080/",
          "height": 447
        },
        "id": "fnEhLmzufnoI",
        "outputId": "828fd024-ca7c-42b9-c8cf-223ecd4aaeb1"
      },
      "execution_count": 14,
      "outputs": [
        {
          "output_type": "execute_result",
          "data": {
            "text/plain": [
              "<matplotlib.collections.PathCollection at 0x7962cd352890>"
            ]
          },
          "metadata": {},
          "execution_count": 14
        },
        {
          "output_type": "display_data",
          "data": {
            "text/plain": [
              "<Figure size 640x480 with 1 Axes>"
            ],
            "image/png": "[encoded data removed]"
          },
          "metadata": {}
        }
      ]
    },
    {
      "cell_type": "code",
      "source": [
        "#B\n",
        "\n",
        "def Lagrange(x,X,i):\n",
        "\n",
        "  L = 1\n",
        "  for j in range(len(X)):\n",
        "    if i != j:\n",
        "      L *= (x-X[j])/(X[i]-X[j])\n",
        "  return L\n",
        "\n",
        "def Interpolate(x,X,Y):\n",
        "\n",
        "  Poly = 0\n",
        "  for i in range(len(X)):\n",
        "    Poly += Y[i]*Lagrange(x,X,i)\n",
        "  return Poly\n",
        "\n",
        "x1 = np.linspace(X[0],X[-1],50)\n",
        "y1 = Interpolate(x1,X,Y)\n",
        "\n",
        "plt.plot(x1,y1)\n",
        "plt.scatter(X,Y,color='r')"
      ],
      "metadata": {
        "colab": {
          "base_uri": "https://localhost:8080/",
          "height": 447
        },
        "id": "6cW4kn9xfyt5",
        "outputId": "dfe0ddf0-11cd-4b54-9cc0-caa94a948024"
      },
      "execution_count": 17,
      "outputs": [
        {
          "output_type": "execute_result",
          "data": {
            "text/plain": [
              "<matplotlib.collections.PathCollection at 0x7962cd1fa470>"
            ]
          },
          "metadata": {},
          "execution_count": 17
        },
        {
          "output_type": "display_data",
          "data": {
            "text/plain": [
              "<Figure size 640x480 with 1 Axes>"
            ],
            "image/png": "[encoded data removed]"
          },
          "metadata": {}
        }
      ]
    },
    {
      "cell_type": "code",
      "source": [
        "#c\n",
        "\n",
        "Xestimado = Interpolate(np.pi/8,X,Y)\n",
        "Xestimado"
      ],
      "metadata": {
        "colab": {
          "base_uri": "https://localhost:8080/"
        },
        "id": "XBj-xqGLf3yQ",
        "outputId": "49bf4299-a234-40aa-951f-3cea29c63866"
      },
      "execution_count": 18,
      "outputs": [
        {
          "output_type": "execute_result",
          "data": {
            "text/plain": [
              "0.41820893444311996"
            ]
          },
          "metadata": {},
          "execution_count": 18
        }
      ]
    },
    {
      "cell_type": "code",
      "source": [
        "#d\n",
        "\n",
        "Xtrue = np.sin(np.pi/8)\n",
        "\n",
        "error = np.abs(Xtrue - Xestimado)\n",
        "error"
      ],
      "metadata": {
        "colab": {
          "base_uri": "https://localhost:8080/"
        },
        "id": "4cTvh_iNf65G",
        "outputId": "6cb6fd86-f928-423f-c189-37ed63898778"
      },
      "execution_count": 19,
      "outputs": [
        {
          "output_type": "execute_result",
          "data": {
            "text/plain": [
              "0.03552550207803018"
            ]
          },
          "metadata": {},
          "execution_count": 19
        }
      ]
    },
    {
      "cell_type": "code",
      "source": [
        "#e\n",
        "derivada_tercera\n",
        "\n",
        "def error_teorico(x,X, xi):\n",
        "    derivada_tercera = (xi)\n",
        "    factorial = np.FPE_DIVIDEBYZEROmath.factorial(3)  # n+1 = 3 para 3 nodos\n",
        "    error = (derivada_tercera / factorial) * (x - X[0]) * (x - X[1]) * (x - X[2])\n",
        "    return error\n"
      ],
      "metadata": {
        "id": "6v7ohRPagxJA"
      },
      "execution_count": 22,
      "outputs": []
    }
  ]
}