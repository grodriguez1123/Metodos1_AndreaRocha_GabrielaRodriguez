{
  "nbformat": 4,
  "nbformat_minor": 0,
  "metadata": {
    "colab": {
      "provenance": [],
      "collapsed_sections": [
        "OIY3piMjuntc",
        "NiXjl94hyhr7",
        "xQ4YNjniNXb2",
        "PgxVpOh8XD88",
        "lqmv4x_5EXTC",
        "-w61Eh8z3-VF"
      ],
      "include_colab_link": true
    },
    "kernelspec": {
      "name": "python3",
      "display_name": "Python 3"
    },
    "language_info": {
      "name": "python"
    }
  },
  "cells": [
    {
      "cell_type": "markdown",
      "metadata": {
        "id": "view-in-github",
        "colab_type": "text"
      },
      "source": [
        "<a href=\"https://colab.research.google.com/github/grodriguez1123/Metodos1_AndreaRocha_GabrielaRodriguez/blob/main/Parcial_Final.ipynb\" target=\"_parent\"><img src=\"https://colab.research.google.com/assets/colab-badge.svg\" alt=\"Open In Colab\"/></a>"
      ]
    },
    {
      "cell_type": "markdown",
      "source": [
        "Andrea Rocha Barajas 202311471\n",
        "\n",
        "Gabriela Rodriguez 202320229"
      ],
      "metadata": {
        "id": "Nd_TnHLIW6DO"
      }
    },
    {
      "cell_type": "code",
      "source": [
        "import numpy as np\n",
        "import matplotlib.pyplot as plt\n",
        "import pandas as pd\n",
        "import scipy.optimize as spo\n",
        "from scipy import stats\n",
        "from scipy.stats import mode\n",
        "from scipy.stats import exponweib\n",
        "from scipy.optimize import curve_fit\n",
        "from IPython.display import clear_output\n",
        "import emcee\n",
        "import corner\n",
        "import os\n",
        "from google.colab import drive\n",
        "drive.mount('/content/drive', force_remount=True)"
      ],
      "metadata": {
        "id": "Uk-UjMzLZoHC",
        "colab": {
          "base_uri": "https://localhost:8080/"
        },
        "outputId": "2daac9ad-fc04-427f-a9f3-da8f77b0e3a1"
      },
      "execution_count": 115,
      "outputs": [
        {
          "output_type": "stream",
          "name": "stdout",
          "text": [
            "Mounted at /content/drive\n"
          ]
        }
      ]
    },
    {
      "cell_type": "code",
      "source": [
        "from itertools import permutations\n",
        "from itertools import combinations\n",
        "from itertools import combinations_with_replacement"
      ],
      "metadata": {
        "id": "K63ugytUEA4k"
      },
      "execution_count": 116,
      "outputs": []
    },
    {
      "cell_type": "markdown",
      "source": [
        "#Problema 2 (Cadena de producción)"
      ],
      "metadata": {
        "id": "OIY3piMjuntc"
      }
    },
    {
      "cell_type": "markdown",
      "source": [
        "a. Describa las variables observables del problema\n"
      ],
      "metadata": {
        "id": "FC3l634WycSE"
      }
    },
    {
      "cell_type": "markdown",
      "source": [
        "Las variables observables son la presencia o ausencia del producto en cada estación."
      ],
      "metadata": {
        "id": "nO7RNYPVtu4x"
      }
    },
    {
      "cell_type": "markdown",
      "source": [
        "b. Defina el conjunto de estados S={S1,S2,S3}"
      ],
      "metadata": {
        "id": "UX9xc5NYygBL"
      }
    },
    {
      "cell_type": "markdown",
      "source": [
        "S1​\n",
        " : El producto está en la estación de producción. Incluye los casos en los que el producto tiene un defecto y no avanza a la estación de empaque.\n",
        "\n",
        "S2: El producto está en la estación de empaque. El producto ha avanzado desde la estación de producción, pero aún no ha sido enviado al mercado.\n",
        "\n",
        "S3 : El producto es enviado al mercado. El producto ha sido procesado correctamente y ha completado el ciclo de producción y empaque."
      ],
      "metadata": {
        "id": "016_EzAZzZHj"
      }
    },
    {
      "cell_type": "markdown",
      "source": [
        "c. Construya la matriz de transición de este proceso estocástico"
      ],
      "metadata": {
        "id": "6CS8G_m6zBSU"
      }
    },
    {
      "cell_type": "code",
      "source": [
        "T= np.array([[0.1,0.9,0.],\\\n",
        "              [0.,0.05,0.95],\\\n",
        "              [0.,0.,1.]])\n"
      ],
      "metadata": {
        "id": "_Ognbt6Qz0PD"
      },
      "execution_count": 117,
      "outputs": []
    },
    {
      "cell_type": "markdown",
      "source": [
        "d. Encuentre el estado estable tanto algebraicamente como numéricamente.  Recuerde πP=π para el estado estable.  ¿Qué interpretación le da al estado estable"
      ],
      "metadata": {
        "id": "8v3LGMGz1TTj"
      }
    },
    {
      "cell_type": "code",
      "source": [
        "states=np.linalg.matrix_power(T,15)\n",
        "states"
      ],
      "metadata": {
        "colab": {
          "base_uri": "https://localhost:8080/"
        },
        "id": "8wJ78hC73Ai7",
        "outputId": "e18218d7-dac0-4d46-d05c-47313060a5fa"
      },
      "execution_count": 118,
      "outputs": [
        {
          "output_type": "execute_result",
          "data": {
            "text/plain": [
              "array([[1.00000000e-15, 1.79994507e-14, 1.00000000e+00],\n",
              "       [0.00000000e+00, 3.05175781e-20, 1.00000000e+00],\n",
              "       [0.00000000e+00, 0.00000000e+00, 1.00000000e+00]])"
            ]
          },
          "metadata": {},
          "execution_count": 118
        }
      ]
    },
    {
      "cell_type": "code",
      "source": [
        "Initial = np.array([1.,0.,0.])\n",
        "estable=np.dot(Initial,states)\n",
        "estable"
      ],
      "metadata": {
        "id": "3sYqqMvx1Suk",
        "colab": {
          "base_uri": "https://localhost:8080/"
        },
        "outputId": "369afdc8-c2a7-4fa3-d80a-52116530e48e"
      },
      "execution_count": 119,
      "outputs": [
        {
          "output_type": "execute_result",
          "data": {
            "text/plain": [
              "array([1.00000000e-15, 1.79994507e-14, 1.00000000e+00])"
            ]
          },
          "metadata": {},
          "execution_count": 119
        }
      ]
    },
    {
      "cell_type": "markdown",
      "source": [
        "e. Determine la probabilidad en estado estable de que ambas estaciones estén ocupada sal mismo tiempo"
      ],
      "metadata": {
        "id": "wNykBWkB3-7w"
      }
    },
    {
      "cell_type": "code",
      "source": [
        "prob_ambas= estable[0] * estable[1]\n",
        "print(prob_ambas)"
      ],
      "metadata": {
        "colab": {
          "base_uri": "https://localhost:8080/"
        },
        "id": "7oYNpfAF4Ilr",
        "outputId": "9ff825e8-13b0-4500-d74f-ebf9ffae21b0"
      },
      "execution_count": 120,
      "outputs": [
        {
          "output_type": "stream",
          "name": "stdout",
          "text": [
            "1.7999450683593806e-29\n"
          ]
        }
      ]
    },
    {
      "cell_type": "markdown",
      "source": [
        "f. Determine  la  probabilidad  en  estado  estable  de  que  al  menos  una  estación  esté ocupada"
      ],
      "metadata": {
        "id": "T1RUFqxC4B-L"
      }
    },
    {
      "cell_type": "code",
      "source": [
        "prob_una = estable[0] + estable[1]\n",
        "print(prob_una)"
      ],
      "metadata": {
        "colab": {
          "base_uri": "https://localhost:8080/"
        },
        "id": "3vLugZ_j4OSG",
        "outputId": "7760d3f8-381c-44e1-a0a8-881870bbd47c"
      },
      "execution_count": 121,
      "outputs": [
        {
          "output_type": "stream",
          "name": "stdout",
          "text": [
            "1.8999450683593778e-14\n"
          ]
        }
      ]
    },
    {
      "cell_type": "markdown",
      "source": [
        "g. Determine la probabilidad en estado estable de que la estación de producción esté vacía"
      ],
      "metadata": {
        "id": "KTgGb5_o4Dub"
      }
    },
    {
      "cell_type": "code",
      "source": [
        "prob_vacia = 1 - estable[0]\n",
        "print(prob_vacia)"
      ],
      "metadata": {
        "colab": {
          "base_uri": "https://localhost:8080/"
        },
        "id": "MjZWyWWc4Bi7",
        "outputId": "483058b3-23bb-480c-d882-67731cfe871e"
      },
      "execution_count": 122,
      "outputs": [
        {
          "output_type": "stream",
          "name": "stdout",
          "text": [
            "0.999999999999999\n"
          ]
        }
      ]
    },
    {
      "cell_type": "markdown",
      "source": [
        "#Problema 3 (Cadena de producción con devolución de producto)"
      ],
      "metadata": {
        "id": "NiXjl94hyhr7"
      }
    },
    {
      "cell_type": "markdown",
      "source": [
        "Resuelva  el  problema  anterior  suponiendo  que  el  2%  de  la  veces  el  cliente  regresa  el producto y va directamente a producción.\n",
        "\n",
        "P(S1∩S2)  =  0.043%, P(S1∪S2)  =  4.15% y P(⌝S1)  =  97.87%.   El  estado  estable  es π= [0.0213,0.0202,0.9585]"
      ],
      "metadata": {
        "id": "32-pJtyW2vbo"
      }
    },
    {
      "cell_type": "markdown",
      "source": [
        "a. Describa las variables observables del problema"
      ],
      "metadata": {
        "id": "59rjHrsb25cT"
      }
    },
    {
      "cell_type": "markdown",
      "source": [
        "Las variables observables del problema son las mismas que las del punto anterior."
      ],
      "metadata": {
        "id": "KamWQV6r26hb"
      }
    },
    {
      "cell_type": "markdown",
      "source": [
        "b. Defina el conjunto de estados S={S1,S2,S3}"
      ],
      "metadata": {
        "id": "_MEsffWd3CFa"
      }
    },
    {
      "cell_type": "markdown",
      "source": [
        "S1​\n",
        " : El producto está en la estación de producción. Incluye los casos en los que el producto tiene un defecto y no avanza a la estación de empaque.\n",
        "\n",
        "S2: El producto está en la estación de empaque. El producto ha avanzado desde la estación de producción, pero aún no ha sido enviado al mercado.\n",
        "\n",
        "S3 : El producto es enviado al mercado. El producto ha sido procesado correctamente y ha completado el ciclo de producción y empaque."
      ],
      "metadata": {
        "id": "CDXCWBVl3Fyk"
      }
    },
    {
      "cell_type": "markdown",
      "source": [
        "c. Construya la matriz de transición de este proceso estocástico"
      ],
      "metadata": {
        "id": "daBNEoIC3Qlz"
      }
    },
    {
      "cell_type": "code",
      "source": [
        "T= np.array([[0.1,0.9,0.],\\\n",
        "              [0.,0.05,0.95],\\\n",
        "              [0.02,0.,0.98]])"
      ],
      "metadata": {
        "id": "r5v-TaREyjZL"
      },
      "execution_count": 123,
      "outputs": []
    },
    {
      "cell_type": "markdown",
      "source": [
        "d. Encuentre el estado estable tanto algebraicamente como numéricamente. Recuerde πP=π para el estado estable. ¿Qué interpretación le da al estado estable"
      ],
      "metadata": {
        "id": "HZVVRv6k3ltm"
      }
    },
    {
      "cell_type": "code",
      "source": [
        "states=np.linalg.matrix_power(T,15)\n",
        "states"
      ],
      "metadata": {
        "colab": {
          "base_uri": "https://localhost:8080/"
        },
        "id": "rPkJeN0t3npS",
        "outputId": "127e7e11-8ff8-4492-da79-3e86b19cbd42"
      },
      "execution_count": 124,
      "outputs": [
        {
          "output_type": "execute_result",
          "data": {
            "text/plain": [
              "array([[0.02130045, 0.02017937, 0.95852018],\n",
              "       [0.02130045, 0.02017937, 0.95852018],\n",
              "       [0.02130045, 0.02017937, 0.95852018]])"
            ]
          },
          "metadata": {},
          "execution_count": 124
        }
      ]
    },
    {
      "cell_type": "code",
      "source": [
        "Initial = np.array([1.,0.,0.])\n",
        "estable=np.dot(Initial,states)\n",
        "estable"
      ],
      "metadata": {
        "colab": {
          "base_uri": "https://localhost:8080/"
        },
        "id": "z-wTEcAU3scD",
        "outputId": "5c4e676b-35ac-4cb9-e85b-807e716507db"
      },
      "execution_count": 125,
      "outputs": [
        {
          "output_type": "execute_result",
          "data": {
            "text/plain": [
              "array([0.02130045, 0.02017937, 0.95852018])"
            ]
          },
          "metadata": {},
          "execution_count": 125
        }
      ]
    },
    {
      "cell_type": "markdown",
      "source": [
        "e. Determine la probabilidad en estado estable de que ambas estaciones estén ocupada sal mismo tiempo"
      ],
      "metadata": {
        "id": "uAmw9nK24yPM"
      }
    },
    {
      "cell_type": "code",
      "source": [
        "prob_ambas= estable[0] * estable[1]\n",
        "print(prob_ambas)"
      ],
      "metadata": {
        "colab": {
          "base_uri": "https://localhost:8080/"
        },
        "id": "r0cdfds449Hh",
        "outputId": "080dee46-14e2-42cf-d915-6d9a6db4d66a"
      },
      "execution_count": 126,
      "outputs": [
        {
          "output_type": "stream",
          "name": "stdout",
          "text": [
            "0.0004298296767990605\n"
          ]
        }
      ]
    },
    {
      "cell_type": "markdown",
      "source": [
        "f. Determine  la  probabilidad  en  estado  estable  de  que  al  menos  una  estación  esté ocupada"
      ],
      "metadata": {
        "id": "xWbArLBw4zEi"
      }
    },
    {
      "cell_type": "code",
      "source": [
        "prob_una = estable[0] + estable[1]\n",
        "print(prob_una)"
      ],
      "metadata": {
        "colab": {
          "base_uri": "https://localhost:8080/"
        },
        "id": "dJZAgrvO4-_b",
        "outputId": "8d2dbfc5-6440-4d04-fae9-8dd736d2a998"
      },
      "execution_count": 127,
      "outputs": [
        {
          "output_type": "stream",
          "name": "stdout",
          "text": [
            "0.041479820625469344\n"
          ]
        }
      ]
    },
    {
      "cell_type": "markdown",
      "source": [
        "g. Determine la probabilidad en estado estable de que la estación de producción esté vacía"
      ],
      "metadata": {
        "id": "_xo58ECu47gr"
      }
    },
    {
      "cell_type": "code",
      "source": [
        "prob_vacia = 1 - estable[0]\n",
        "print(prob_vacia)"
      ],
      "metadata": {
        "colab": {
          "base_uri": "https://localhost:8080/"
        },
        "id": "vAYkDtnf5BEh",
        "outputId": "157a3ca1-2827-4350-8361-9345418b8099"
      },
      "execution_count": 128,
      "outputs": [
        {
          "output_type": "stream",
          "name": "stdout",
          "text": [
            "0.9786995515697233\n"
          ]
        }
      ]
    },
    {
      "cell_type": "markdown",
      "source": [
        "#Problema 1: Casino tramposo"
      ],
      "metadata": {
        "id": "xQ4YNjniNXb2"
      }
    },
    {
      "cell_type": "markdown",
      "source": [
        "a. Use la siguiente distribución de probabilidad a-priori π= [0.2,0.8] para la moneda justa y sesgada"
      ],
      "metadata": {
        "id": "sUoZixC8Nbo1"
      }
    },
    {
      "cell_type": "code",
      "source": [
        "# Definimos estados y priors\n",
        "States = np.array([0,1])\n",
        "Prior = np.array([0.2,0.8])"
      ],
      "metadata": {
        "id": "a3n9WbyaNdTF"
      },
      "execution_count": 129,
      "outputs": []
    },
    {
      "cell_type": "markdown",
      "source": [
        "b. Encuentre la secuencia oculta más probable del tipo de moneda que se eligió en cada lanzamiento y su respectiva probabilidad"
      ],
      "metadata": {
        "id": "BNCWUBMgNe9F"
      }
    },
    {
      "cell_type": "code",
      "source": [
        "# Definimos matrices de emisión y transmision\n",
        "T = np.array([[0.8,0.2],[0.2,0.8]]) #En orden: justa y sesgada\n",
        "\n",
        "E = np.array([[0.5,0.9],[0.5,0.1]])"
      ],
      "metadata": {
        "id": "PtjhzUNvNh0F"
      },
      "execution_count": 130,
      "outputs": []
    },
    {
      "cell_type": "code",
      "source": [
        "DictH = {0:'Justa',1:'Sesgada'}\n",
        "DictO = {0:'Cara',1:'Sello'}\n",
        "Obs = np.array([1,0,0,0,1,0,1,0])"
      ],
      "metadata": {
        "id": "5PcvAYTKNlJV"
      },
      "execution_count": 131,
      "outputs": []
    },
    {
      "cell_type": "code",
      "source": [
        "def GetStates(State,N):\n",
        "    CStates = list(combinations_with_replacement(State,N))\n",
        "\n",
        "    Permu = []\n",
        "\n",
        "    for it in CStates:\n",
        "      p = list(permutations(it,N))\n",
        "     # print(p)\n",
        "      for i in p:\n",
        "        if i not in Permu:\n",
        "          Permu.append(i)\n",
        "\n",
        "    CStates = np.array(Permu)\n",
        "\n",
        "    return CStates"
      ],
      "metadata": {
        "id": "yR9f_AYhNnft"
      },
      "execution_count": 132,
      "outputs": []
    },
    {
      "cell_type": "code",
      "source": [
        "HiddenStates = GetStates(States,8)\n",
        "HiddenStates"
      ],
      "metadata": {
        "colab": {
          "base_uri": "https://localhost:8080/"
        },
        "id": "7E14SzIUNoG0",
        "outputId": "af37ebde-ba92-48cd-d810-6d04b310af8e"
      },
      "execution_count": 133,
      "outputs": [
        {
          "output_type": "execute_result",
          "data": {
            "text/plain": [
              "array([[0, 0, 0, ..., 0, 0, 0],\n",
              "       [0, 0, 0, ..., 0, 0, 1],\n",
              "       [0, 0, 0, ..., 0, 1, 0],\n",
              "       ...,\n",
              "       [1, 1, 1, ..., 1, 0, 1],\n",
              "       [1, 1, 1, ..., 1, 1, 0],\n",
              "       [1, 1, 1, ..., 1, 1, 1]])"
            ]
          },
          "metadata": {},
          "execution_count": 133
        }
      ]
    },
    {
      "cell_type": "code",
      "source": [
        "def GetProb(T,E,Obs,State,Prior):\n",
        "\n",
        "  n = len(Obs)\n",
        "  p = 1.\n",
        "  # Probabilidad a priori\n",
        "  p *= Prior[ State[0] ]\n",
        "\n",
        "  for i in range(n-1): # El ultimo no va a ningun lado\n",
        "    p *= T[ State[i+1], State[i] ]\n",
        "\n",
        "  for i in range(n):\n",
        "    p *= E[ Obs[i], State[i] ]\n",
        "\n",
        "  return p"
      ],
      "metadata": {
        "id": "BIlrjU_kNpmU"
      },
      "execution_count": 134,
      "outputs": []
    },
    {
      "cell_type": "code",
      "source": [
        "P = np.zeros(HiddenStates.shape[0])\n",
        "\n",
        "for i in range(P.shape[0]):\n",
        "  P[i] = GetProb(T,E,Obs,HiddenStates[i],Prior)\n",
        "\n",
        "ii = np.where( P == np.max(P) )\n",
        "print(HiddenStates[ii],P[ii])\n",
        "\n",
        "valores_hidden = HiddenStates[ii][0]\n",
        "resultado = [DictH[val] for val in valores_hidden]\n",
        "print(resultado)"
      ],
      "metadata": {
        "colab": {
          "base_uri": "https://localhost:8080/"
        },
        "id": "Vm18l-h5Ns4E",
        "outputId": "1e9945d3-3963-4730-ec45-7a56d7d4933b"
      },
      "execution_count": 135,
      "outputs": [
        {
          "output_type": "stream",
          "name": "stdout",
          "text": [
            "[[1 1 1 1 0 0 0 0]] [0.0001911]\n",
            "['Sesgada', 'Sesgada', 'Sesgada', 'Sesgada', 'Justa', 'Justa', 'Justa', 'Justa']\n"
          ]
        }
      ]
    },
    {
      "cell_type": "markdown",
      "source": [
        "c. Dado el estado observado ΩO, determine el conjunto de secuencias ocultas mas probables hasta alcanzar una probabilidad acumulada del 20%.\n",
        "Utilice Pandas para organizar los datos de la siguiente manera:\n",
        "\n",
        "i. En la primera columna, incluya cada secuencia.\n",
        "\n",
        "ii. En la segunda columna, registre la probabilidad de cada secuencia.\n",
        "\n",
        "iii. Ordene elDataFramepor probabilidad en orden descendente.\n",
        "\n",
        "iv. En una tercera columna, calcule la probabilidad acumulada.El c ́odigo debe imprimir el conjunto de secuencias m ́as probables que sumen unaprobabilidad acumulada del 20%.\n",
        "\n",
        "Nota:Recuerde que la suma de probabilidades no es igual a 1 porque ya se haobservado una secuencia ΩO. Por lo tanto, es necesario normalizar las probabilidadesocultas usando probabilidad condicional para garantizar su correcta interpretación."
      ],
      "metadata": {
        "id": "-zZA6utLNjzd"
      }
    },
    {
      "cell_type": "code",
      "source": [
        "# Normalizar las probabilidades\n",
        "P_total = sum(P)\n",
        "P_normal = [p / P_total for p in P]\n",
        "\n",
        "#Crear el data frame\n",
        "data = {'Estados Ocultos': list(HiddenStates),'Probabilidad': P_normal}\n",
        "df = pd.DataFrame(data)\n",
        "\n",
        "#Ordenar de forma descendente\n",
        "df = df.sort_values(by='Probabilidad', ascending=False)\n",
        "\n",
        "#Probabilidad acumulada\n",
        "df['Probabilidad Acumulada'] = df['Probabilidad'].cumsum()\n",
        "\n",
        "# Seleccionar las secuencias hasta alcanzar el 20% acumulado\n",
        "maximo = 0.2\n",
        "result = df[df['Probabilidad Acumulada'] <= maximo]\n",
        "print(\"Conjunto de secuencias más probables que sumen una probabilidad acumulada del 20%:\")\n",
        "print(result)"
      ],
      "metadata": {
        "colab": {
          "base_uri": "https://localhost:8080/"
        },
        "id": "5tIO74JONyB9",
        "outputId": "ef7f3394-f6b8-4e36-c550-0b332bf8415e"
      },
      "execution_count": 136,
      "outputs": [
        {
          "output_type": "stream",
          "name": "stdout",
          "text": [
            "Conjunto de secuencias más probables que sumen una probabilidad acumulada del 20%:\n",
            "              Estados Ocultos  Probabilidad  Probabilidad Acumulada\n",
            "162  [1, 1, 1, 1, 0, 0, 0, 0]      0.098790                0.098790\n",
            "0    [0, 0, 0, 0, 0, 0, 0, 0]      0.084696                0.183486\n"
          ]
        }
      ]
    },
    {
      "cell_type": "markdown",
      "source": [
        "d. Dibuje las probabilidades ocultas asociadas al estado observable ΩO"
      ],
      "metadata": {
        "id": "cINQrd7dN0U2"
      }
    },
    {
      "cell_type": "code",
      "source": [
        "MaxP = P[ii]\n",
        "\n",
        "fig, ax = plt.subplots()\n",
        "ax.grid(True)\n",
        "plt.plot(P,label = 'Probabilidad por secuencia',color = 'k')\n",
        "plt.axhline(y=MaxP, color='r', label= 'MaxP = 0.0002')\n",
        "plt.legend()\n",
        "plt.show()"
      ],
      "metadata": {
        "colab": {
          "base_uri": "https://localhost:8080/",
          "height": 434
        },
        "id": "usVBXC6aN2BF",
        "outputId": "b326c46b-317d-4305-a938-d78a28576b6a"
      },
      "execution_count": 137,
      "outputs": [
        {
          "output_type": "display_data",
          "data": {
            "text/plain": [
              "<Figure size 640x480 with 1 Axes>"
            ],
            "image/png": "[encoded data removed]"
          },
          "metadata": {}
        }
      ]
    },
    {
      "cell_type": "markdown",
      "source": [
        "e. Calcule las probabilidades de cada estado observable ΩO como la suma de las probabilidades de todos los estados ocultos"
      ],
      "metadata": {
        "id": "fMwlBP6SN36l"
      }
    },
    {
      "cell_type": "code",
      "source": [
        "ObsStates = GetStates([0,1],8)\n",
        "\n",
        "Nobs = ObsStates.shape[0]\n",
        "\n",
        "PObs = np.zeros(Nobs)\n",
        "\n",
        "for j in range(Nobs):\n",
        "\n",
        "  dim = HiddenStates.shape[0]\n",
        "  P = np.zeros(dim)\n",
        "\n",
        "  for i in range(dim):\n",
        "    P[i] = GetProb(T,E,ObsStates[j],HiddenStates[i],Prior)\n",
        "\n",
        "  PObs[j] = np.sum(P)\n",
        "\n",
        "PObs"
      ],
      "metadata": {
        "colab": {
          "base_uri": "https://localhost:8080/"
        },
        "id": "BKvaosY_N51F",
        "outputId": "2c37c72e-a50b-482f-8fd0-b4092d8321f8"
      },
      "execution_count": 138,
      "outputs": [
        {
          "output_type": "execute_result",
          "data": {
            "text/plain": [
              "array([0.13698241, 0.04114921, 0.0347373 , 0.03175272, 0.03026766,\n",
              "       0.02932288, 0.02830811, 0.02656789, 0.02297818, 0.01870516,\n",
              "       0.01330002, 0.01467809, 0.01079433, 0.01067359, 0.01276253,\n",
              "       0.00956961, 0.00877661, 0.00936674, 0.01172117, 0.00883478,\n",
              "       0.00776184, 0.00767971, 0.00853533, 0.01088136, 0.00811519,\n",
              "       0.00697382, 0.00661175, 0.00679511, 0.00764233, 0.00970066,\n",
              "       0.00694603, 0.00590355, 0.00547305, 0.00537647, 0.00555143,\n",
              "       0.00611094, 0.0074164 , 0.00955193, 0.00649319, 0.00616157,\n",
              "       0.00733671, 0.00505945, 0.00428819, 0.00497251, 0.00456283,\n",
              "       0.0048075 , 0.00623446, 0.00432462, 0.00337544, 0.00382959,\n",
              "       0.00321043, 0.00330316, 0.00416108, 0.00372302, 0.00355961,\n",
              "       0.00405611, 0.00553322, 0.00381405, 0.00283376, 0.00316972,\n",
              "       0.00249084, 0.00251514, 0.00309313, 0.00256378, 0.00241017,\n",
              "       0.0026765 , 0.00353481, 0.00309969, 0.00278698, 0.0028754 ,\n",
              "       0.00342205, 0.00478004, 0.00319794, 0.00231328, 0.00256666,\n",
              "       0.00193925, 0.00193444, 0.00234078, 0.00183427, 0.00170131,\n",
              "       0.00184945, 0.00237437, 0.00193054, 0.00171671, 0.0017367 ,\n",
              "       0.00200341, 0.00268914, 0.00229023, 0.00199057, 0.00192969,\n",
              "       0.00206826, 0.00249578, 0.00348841, 0.00497054, 0.0033236 ,\n",
              "       0.00304519, 0.00311076, 0.00376161, 0.00253029, 0.00206191,\n",
              "       0.00205278, 0.00246933, 0.0021158 , 0.0019167 , 0.00225856,\n",
              "       0.00220175, 0.00235363, 0.00310439, 0.0020782 , 0.00155134,\n",
              "       0.00151111, 0.00180946, 0.00141526, 0.00124957, 0.00146357,\n",
              "       0.0013954 , 0.00148394, 0.00194555, 0.00158206, 0.00129338,\n",
              "       0.00148593, 0.00131375, 0.00137119, 0.00175811, 0.00165634,\n",
              "       0.00160044, 0.00185224, 0.00257438, 0.00167529, 0.00118368,\n",
              "       0.00113585, 0.00135576, 0.00098913, 0.00085454, 0.00099563,\n",
              "       0.00093056, 0.0009849 , 0.00128408, 0.00096595, 0.00077289,\n",
              "       0.00088288, 0.00076216, 0.00079048, 0.00100575, 0.00092683,\n",
              "       0.00089159, 0.00102519, 0.00141394, 0.0010992 , 0.00083817,\n",
              "       0.00094468, 0.00076896, 0.00078459, 0.00097797, 0.00084688,\n",
              "       0.00080403, 0.00090653, 0.00122058, 0.00112224, 0.00101556,\n",
              "       0.00105958, 0.00128275, 0.00182922, 0.00256794, 0.00168142,\n",
              "       0.00152212, 0.00150379, 0.00155895, 0.00189063, 0.00122933,\n",
              "       0.00098331, 0.00094521, 0.0009748 , 0.00118099, 0.00098838,\n",
              "       0.00086356, 0.00087339, 0.001054  , 0.00095838, 0.00088149,\n",
              "       0.00104234, 0.00102894, 0.00110308, 0.00145974, 0.00091963,\n",
              "       0.00066712, 0.00062556, 0.00064202, 0.00077707, 0.00058547,\n",
              "       0.00049591, 0.00049813, 0.0006003 , 0.00053225, 0.00048646,\n",
              "       0.0005744 , 0.0005641 , 0.00060404, 0.00079827, 0.00062195,\n",
              "       0.00048718, 0.00048042, 0.00057676, 0.00047552, 0.00042628,\n",
              "       0.00050108, 0.00048415, 0.00051648, 0.00067961, 0.00057942,\n",
              "       0.00047945, 0.00055256, 0.00049484, 0.00051819, 0.00066708,\n",
              "       0.00063555, 0.00061546, 0.00071458, 0.00099692, 0.00129252,\n",
              "       0.00080697, 0.00071883, 0.00070371, 0.00070597, 0.00073395,\n",
              "       0.0008906 , 0.00053072, 0.00040913, 0.00038751, 0.00038632,\n",
              "       0.00040116, 0.00048667, 0.00039234, 0.00033728, 0.00032959,\n",
              "       0.00034098, 0.00041336, 0.00036815, 0.00032701, 0.0003319 ,\n",
              "       0.00040083, 0.00036912, 0.00034056, 0.00040299, 0.00039881,\n",
              "       0.00042778, 0.00056647, 0.00060902, 0.00033276, 0.00028253,\n",
              "       0.00027346, 0.00027216, 0.00027387, 0.00028489, 0.00034573,\n",
              "       0.00023643])"
            ]
          },
          "metadata": {},
          "execution_count": 138
        }
      ]
    },
    {
      "cell_type": "markdown",
      "source": [
        "f. Verifique que la suma de todos los estados observables es 1"
      ],
      "metadata": {
        "id": "GbAPK56vN-ys"
      }
    },
    {
      "cell_type": "code",
      "source": [
        "np.sum(PObs)"
      ],
      "metadata": {
        "colab": {
          "base_uri": "https://localhost:8080/"
        },
        "id": "EYfLoe5xN-LV",
        "outputId": "4f6d2e58-6ad5-431a-9fc8-5a92cd8fc0d8"
      },
      "execution_count": 140,
      "outputs": [
        {
          "output_type": "execute_result",
          "data": {
            "text/plain": [
              "1.0000000000000007"
            ]
          },
          "metadata": {},
          "execution_count": 140
        }
      ]
    },
    {
      "cell_type": "markdown",
      "source": [
        "g. ¿El resultado depende de la probabilidad a-priori? Explique conceptualmente su respuesta"
      ],
      "metadata": {
        "id": "DiABwSpNOBZM"
      }
    },
    {
      "cell_type": "markdown",
      "source": [
        "La probabilidad a priori si afecta el cálculo de la probabilidad total de una secuencia y su camino más probable. Lo cual se debe a que la probabilidad a priori refleja la creencia inicial sobre cómo comienza el sistema entre los posibles estados antes de observar cualquier dato.\n",
        "\n",
        "Si no se especifica, generalmente se asume una distribución uniforme, es decir, P(J)=0.5 y P(B)=0.5. Sin embargo, si asignamos valores diferentes, esto puede alterar los resultados al dar mayor peso a un estado inicial sobre otro. Por ejemplo, si se asigna P(J)=0.8 y P(B)=0.2, estaremos inclinando el modelo a preferir caminos que comiencen en J, afectando tanto las probabilidades calculadas como la secuencia oculta más probable.\n",
        "\n",
        "Luego, la probabilidad a priori actúa como un factor que sesga nuestras predicciones iniciales y, por lo tanto, influye en los resultados finales."
      ],
      "metadata": {
        "id": "gBxJAWE3OD9F"
      }
    },
    {
      "cell_type": "markdown",
      "source": [
        "h. Considere que las matrices de transición y emisión están correctamente definidas. Si tuviera que estimar las probabilidades de transición y emisión utilizando técnicas deaprendizaje automático, ¿qué enfoque metodológico basado en datos propondrıa?"
      ],
      "metadata": {
        "id": "zA-OT8edOLRG"
      }
    },
    {
      "cell_type": "markdown",
      "source": [
        "Para estimar las probabilidades de transición y emisión en el escenario de las dos monedas (una justa y una sesgada), usando técnicas de aprendizaje automatico, usaría un enfoque redes neuronales.\n",
        "\n",
        "La entrada a la red será una secuencia de lanzamientos de caras y sellos, donde cada lanzamiento será representado mediante codificación one-hot: \"C\" se representa como [1, 0] y \"S\" como [0, 1]. Un vector one-hot es una forma de representación de datos que se usa en el procesamiento de información, especialmente en el contexto de redes neuronales y aprendizaje automático. Este tipo de vector es una representación binaria, donde un valor específico (generalmente asociado a una categoría) se marca con un 1, y todos los demás valores se marcan con 0. Se haría uso de este tipo de entrada dado que los datos que nos interesa evaluar son categóricos. Al uso de vectores one-hot también hace que el proceso de aprendizaje sea más sencillo para la red neuronal. Cada entrada es única y separada de las demás, lo que ayuda a la red a aprender patrones en las relaciones entre las entradas y las salidas sin la confusión de jerarquías numéricas.\n",
        "\n",
        "La red neuronal contará con dos capas ocultas, en las cuales cada una tendría un número entre 32 y 64 neuronas (lo cuál es un tamaño recurrente entre sistemas de este claibre) y activación ReLU o Sigmoide (usada en clase), lo que permite modelar relaciones no lineales en los datos. Estas capas ocultas capturan patrones complejos en las secuencias, como la correlación entre los lanzamientos y las transiciones de las monedas. La capa de salida tendrá cuatro nodos: dos para las probabilidades de emisión (la probabilidad de observar \"C\" o \"S\" dado que la moneda es justa o sesgada), y dos para las probabilidades de transición (la probabilidad de pasar de una moneda a otra).\n",
        "\n",
        "Para las probabilidades de emisión y transición, se usará la activación Softmax, que asegura que las salidas representen distribuciones de probabilidad válidas, es decir, que las probabilidades sumen 1. La función de pérdida será Categorical Crossentropy, ya que se trata de un problema de clasificación donde se desea predecir una distribución de probabilidad para cada secuencia observada. Note que está activación y función de loss suelen ir de la mano.\n",
        "\n",
        "Este enfoque combina las ventajas de las redes neuronales para aprender representaciones complejas y la estructura probabilística necesaria para modelar las emisiones y transiciones de las monedas. Además, usar una red neuronal sería una mejor opción que un algoritmo evolutivo porque las redes neuronales están diseñadas específicamente para aprender patrones probabilísticos complejos a partir de los datos y son más eficientes en ello. No obstante, se debe asegurar un volumen considerable de datos para lograr un resultado veridico.  \n",
        "\n",
        "Bibliografía usada:\n",
        "\n",
        "-https://www.geeksforgeeks.org/ml-one-hot-encoding/\n",
        "\n",
        "-https://en.wikipedia.org/wiki/Rectifier_(neural_networks)\n",
        "\n",
        "-https://www.v7labs.com/blog/cross-entropy-loss-guide\n",
        "\n",
        "-https://machinelearningmastery.com/rectified-linear-activation-function-for-deep-learning-neural-networks/"
      ],
      "metadata": {
        "id": "Tc2YLiY0ON6V"
      }
    },
    {
      "cell_type": "markdown",
      "source": [
        "#Problema 9: Estimación de la temperatura de un gas diatómico"
      ],
      "metadata": {
        "id": "PgxVpOh8XD88"
      }
    },
    {
      "cell_type": "code",
      "source": [
        "!pip install emcee\n",
        "!pip install corner"
      ],
      "metadata": {
        "colab": {
          "base_uri": "https://localhost:8080/"
        },
        "id": "QYdd7muPQIDB",
        "outputId": "8aafcf0e-3679-48dc-cc47-89c179f210d2"
      },
      "execution_count": 141,
      "outputs": [
        {
          "output_type": "stream",
          "name": "stdout",
          "text": [
            "Requirement already satisfied: emcee in /usr/local/lib/python3.10/dist-packages (3.1.6)\n",
            "Requirement already satisfied: numpy in /usr/local/lib/python3.10/dist-packages (from emcee) (1.26.4)\n",
            "Requirement already satisfied: corner in /usr/local/lib/python3.10/dist-packages (2.2.3)\n",
            "Requirement already satisfied: matplotlib>=2.1 in /usr/local/lib/python3.10/dist-packages (from corner) (3.8.0)\n",
            "Requirement already satisfied: contourpy>=1.0.1 in /usr/local/lib/python3.10/dist-packages (from matplotlib>=2.1->corner) (1.3.1)\n",
            "Requirement already satisfied: cycler>=0.10 in /usr/local/lib/python3.10/dist-packages (from matplotlib>=2.1->corner) (0.12.1)\n",
            "Requirement already satisfied: fonttools>=4.22.0 in /usr/local/lib/python3.10/dist-packages (from matplotlib>=2.1->corner) (4.55.0)\n",
            "Requirement already satisfied: kiwisolver>=1.0.1 in /usr/local/lib/python3.10/dist-packages (from matplotlib>=2.1->corner) (1.4.7)\n",
            "Requirement already satisfied: numpy<2,>=1.21 in /usr/local/lib/python3.10/dist-packages (from matplotlib>=2.1->corner) (1.26.4)\n",
            "Requirement already satisfied: packaging>=20.0 in /usr/local/lib/python3.10/dist-packages (from matplotlib>=2.1->corner) (24.2)\n",
            "Requirement already satisfied: pillow>=6.2.0 in /usr/local/lib/python3.10/dist-packages (from matplotlib>=2.1->corner) (11.0.0)\n",
            "Requirement already satisfied: pyparsing>=2.3.1 in /usr/local/lib/python3.10/dist-packages (from matplotlib>=2.1->corner) (3.2.0)\n",
            "Requirement already satisfied: python-dateutil>=2.7 in /usr/local/lib/python3.10/dist-packages (from matplotlib>=2.1->corner) (2.8.2)\n",
            "Requirement already satisfied: six>=1.5 in /usr/local/lib/python3.10/dist-packages (from python-dateutil>=2.7->matplotlib>=2.1->corner) (1.16.0)\n"
          ]
        }
      ]
    },
    {
      "cell_type": "code",
      "execution_count": 143,
      "metadata": {
        "colab": {
          "base_uri": "https://localhost:8080/",
          "height": 423
        },
        "id": "w1StSIOxWjKD",
        "outputId": "af62688a-daa8-482e-9cae-5d9f679d9719"
      },
      "outputs": [
        {
          "output_type": "execute_result",
          "data": {
            "text/plain": [
              "       Velocidad\n",
              "0     547.265773\n",
              "1     449.920418\n",
              "2     773.814382\n",
              "3     823.668389\n",
              "4     352.873887\n",
              "...          ...\n",
              "2995  601.470068\n",
              "2996  508.491149\n",
              "2997  594.981398\n",
              "2998  376.388615\n",
              "2999  539.813140\n",
              "\n",
              "[3000 rows x 1 columns]"
            ],
            "text/html": [
              "\n",
              "  <div id=\"df-37e17469-63ce-420c-ae40-668e8b75ea26\" class=\"colab-df-container\">\n",
              "    <div>\n",
              "<style scoped>\n",
              "    .dataframe tbody tr th:only-of-type {\n",
              "        vertical-align: middle;\n",
              "    }\n",
              "\n",
              "    .dataframe tbody tr th {\n",
              "        vertical-align: top;\n",
              "    }\n",
              "\n",
              "    .dataframe thead th {\n",
              "        text-align: right;\n",
              "    }\n",
              "</style>\n",
              "<table border=\"1\" class=\"dataframe\">\n",
              "  <thead>\n",
              "    <tr style=\"text-align: right;\">\n",
              "      <th></th>\n",
              "      <th>Velocidad</th>\n",
              "    </tr>\n",
              "  </thead>\n",
              "  <tbody>\n",
              "    <tr>\n",
              "      <th>0</th>\n",
              "      <td>547.265773</td>\n",
              "    </tr>\n",
              "    <tr>\n",
              "      <th>1</th>\n",
              "      <td>449.920418</td>\n",
              "    </tr>\n",
              "    <tr>\n",
              "      <th>2</th>\n",
              "      <td>773.814382</td>\n",
              "    </tr>\n",
              "    <tr>\n",
              "      <th>3</th>\n",
              "      <td>823.668389</td>\n",
              "    </tr>\n",
              "    <tr>\n",
              "      <th>4</th>\n",
              "      <td>352.873887</td>\n",
              "    </tr>\n",
              "    <tr>\n",
              "      <th>...</th>\n",
              "      <td>...</td>\n",
              "    </tr>\n",
              "    <tr>\n",
              "      <th>2995</th>\n",
              "      <td>601.470068</td>\n",
              "    </tr>\n",
              "    <tr>\n",
              "      <th>2996</th>\n",
              "      <td>508.491149</td>\n",
              "    </tr>\n",
              "    <tr>\n",
              "      <th>2997</th>\n",
              "      <td>594.981398</td>\n",
              "    </tr>\n",
              "    <tr>\n",
              "      <th>2998</th>\n",
              "      <td>376.388615</td>\n",
              "    </tr>\n",
              "    <tr>\n",
              "      <th>2999</th>\n",
              "      <td>539.813140</td>\n",
              "    </tr>\n",
              "  </tbody>\n",
              "</table>\n",
              "<p>3000 rows × 1 columns</p>\n",
              "</div>\n",
              "    <div class=\"colab-df-buttons\">\n",
              "\n",
              "  <div class=\"colab-df-container\">\n",
              "    <button class=\"colab-df-convert\" onclick=\"convertToInteractive('df-37e17469-63ce-420c-ae40-668e8b75ea26')\"\n",
              "            title=\"Convert this dataframe to an interactive table.\"\n",
              "            style=\"display:none;\">\n",
              "\n",
              "  <svg xmlns=\"http://www.w3.org/2000/svg\" height=\"24px\" viewBox=\"0 -960 960 960\">\n",
              "    <path d=\"M120-120v-720h720v720H120Zm60-500h600v-160H180v160Zm220 220h160v-160H400v160Zm0 220h160v-160H400v160ZM180-400h160v-160H180v160Zm440 0h160v-160H620v160ZM180-180h160v-160H180v160Zm440 0h160v-160H620v160Z\"/>\n",
              "  </svg>\n",
              "    </button>\n",
              "\n",
              "  <style>\n",
              "    .colab-df-container {\n",
              "      display:flex;\n",
              "      gap: 12px;\n",
              "    }\n",
              "\n",
              "    .colab-df-convert {\n",
              "      background-color: #E8F0FE;\n",
              "      border: none;\n",
              "      border-radius: 50%;\n",
              "      cursor: pointer;\n",
              "      display: none;\n",
              "      fill: #1967D2;\n",
              "      height: 32px;\n",
              "      padding: 0 0 0 0;\n",
              "      width: 32px;\n",
              "    }\n",
              "\n",
              "    .colab-df-convert:hover {\n",
              "      background-color: #E2EBFA;\n",
              "      box-shadow: 0px 1px 2px rgba(60, 64, 67, 0.3), 0px 1px 3px 1px rgba(60, 64, 67, 0.15);\n",
              "      fill: #174EA6;\n",
              "    }\n",
              "\n",
              "    .colab-df-buttons div {\n",
              "      margin-bottom: 4px;\n",
              "    }\n",
              "\n",
              "    [theme=dark] .colab-df-convert {\n",
              "      background-color: #3B4455;\n",
              "      fill: #D2E3FC;\n",
              "    }\n",
              "\n",
              "    [theme=dark] .colab-df-convert:hover {\n",
              "      background-color: #434B5C;\n",
              "      box-shadow: 0px 1px 3px 1px rgba(0, 0, 0, 0.15);\n",
              "      filter: drop-shadow(0px 1px 2px rgba(0, 0, 0, 0.3));\n",
              "      fill: #FFFFFF;\n",
              "    }\n",
              "  </style>\n",
              "\n",
              "    <script>\n",
              "      const buttonEl =\n",
              "        document.querySelector('#df-37e17469-63ce-420c-ae40-668e8b75ea26 button.colab-df-convert');\n",
              "      buttonEl.style.display =\n",
              "        google.colab.kernel.accessAllowed ? 'block' : 'none';\n",
              "\n",
              "      async function convertToInteractive(key) {\n",
              "        const element = document.querySelector('#df-37e17469-63ce-420c-ae40-668e8b75ea26');\n",
              "        const dataTable =\n",
              "          await google.colab.kernel.invokeFunction('convertToInteractive',\n",
              "                                                    [key], {});\n",
              "        if (!dataTable) return;\n",
              "\n",
              "        const docLinkHtml = 'Like what you see? Visit the ' +\n",
              "          '<a target=\"_blank\" href=https://colab.research.google.com/notebooks/data_table.ipynb>data table notebook</a>'\n",
              "          + ' to learn more about interactive tables.';\n",
              "        element.innerHTML = '';\n",
              "        dataTable['output_type'] = 'display_data';\n",
              "        await google.colab.output.renderOutput(dataTable, element);\n",
              "        const docLink = document.createElement('div');\n",
              "        docLink.innerHTML = docLinkHtml;\n",
              "        element.appendChild(docLink);\n",
              "      }\n",
              "    </script>\n",
              "  </div>\n",
              "\n",
              "\n",
              "<div id=\"df-cfa32dd2-836b-46ce-8428-556a05a7bf68\">\n",
              "  <button class=\"colab-df-quickchart\" onclick=\"quickchart('df-cfa32dd2-836b-46ce-8428-556a05a7bf68')\"\n",
              "            title=\"Suggest charts\"\n",
              "            style=\"display:none;\">\n",
              "\n",
              "<svg xmlns=\"http://www.w3.org/2000/svg\" height=\"24px\"viewBox=\"0 0 24 24\"\n",
              "     width=\"24px\">\n",
              "    <g>\n",
              "        <path d=\"M19 3H5c-1.1 0-2 .9-2 2v14c0 1.1.9 2 2 2h14c1.1 0 2-.9 2-2V5c0-1.1-.9-2-2-2zM9 17H7v-7h2v7zm4 0h-2V7h2v10zm4 0h-2v-4h2v4z\"/>\n",
              "    </g>\n",
              "</svg>\n",
              "  </button>\n",
              "\n",
              "<style>\n",
              "  .colab-df-quickchart {\n",
              "      --bg-color: #E8F0FE;\n",
              "      --fill-color: #1967D2;\n",
              "      --hover-bg-color: #E2EBFA;\n",
              "      --hover-fill-color: #174EA6;\n",
              "      --disabled-fill-color: #AAA;\n",
              "      --disabled-bg-color: #DDD;\n",
              "  }\n",
              "\n",
              "  [theme=dark] .colab-df-quickchart {\n",
              "      --bg-color: #3B4455;\n",
              "      --fill-color: #D2E3FC;\n",
              "      --hover-bg-color: #434B5C;\n",
              "      --hover-fill-color: #FFFFFF;\n",
              "      --disabled-bg-color: #3B4455;\n",
              "      --disabled-fill-color: #666;\n",
              "  }\n",
              "\n",
              "  .colab-df-quickchart {\n",
              "    background-color: var(--bg-color);\n",
              "    border: none;\n",
              "    border-radius: 50%;\n",
              "    cursor: pointer;\n",
              "    display: none;\n",
              "    fill: var(--fill-color);\n",
              "    height: 32px;\n",
              "    padding: 0;\n",
              "    width: 32px;\n",
              "  }\n",
              "\n",
              "  .colab-df-quickchart:hover {\n",
              "    background-color: var(--hover-bg-color);\n",
              "    box-shadow: 0 1px 2px rgba(60, 64, 67, 0.3), 0 1px 3px 1px rgba(60, 64, 67, 0.15);\n",
              "    fill: var(--button-hover-fill-color);\n",
              "  }\n",
              "\n",
              "  .colab-df-quickchart-complete:disabled,\n",
              "  .colab-df-quickchart-complete:disabled:hover {\n",
              "    background-color: var(--disabled-bg-color);\n",
              "    fill: var(--disabled-fill-color);\n",
              "    box-shadow: none;\n",
              "  }\n",
              "\n",
              "  .colab-df-spinner {\n",
              "    border: 2px solid var(--fill-color);\n",
              "    border-color: transparent;\n",
              "    border-bottom-color: var(--fill-color);\n",
              "    animation:\n",
              "      spin 1s steps(1) infinite;\n",
              "  }\n",
              "\n",
              "  @keyframes spin {\n",
              "    0% {\n",
              "      border-color: transparent;\n",
              "      border-bottom-color: var(--fill-color);\n",
              "      border-left-color: var(--fill-color);\n",
              "    }\n",
              "    20% {\n",
              "      border-color: transparent;\n",
              "      border-left-color: var(--fill-color);\n",
              "      border-top-color: var(--fill-color);\n",
              "    }\n",
              "    30% {\n",
              "      border-color: transparent;\n",
              "      border-left-color: var(--fill-color);\n",
              "      border-top-color: var(--fill-color);\n",
              "      border-right-color: var(--fill-color);\n",
              "    }\n",
              "    40% {\n",
              "      border-color: transparent;\n",
              "      border-right-color: var(--fill-color);\n",
              "      border-top-color: var(--fill-color);\n",
              "    }\n",
              "    60% {\n",
              "      border-color: transparent;\n",
              "      border-right-color: var(--fill-color);\n",
              "    }\n",
              "    80% {\n",
              "      border-color: transparent;\n",
              "      border-right-color: var(--fill-color);\n",
              "      border-bottom-color: var(--fill-color);\n",
              "    }\n",
              "    90% {\n",
              "      border-color: transparent;\n",
              "      border-bottom-color: var(--fill-color);\n",
              "    }\n",
              "  }\n",
              "</style>\n",
              "\n",
              "  <script>\n",
              "    async function quickchart(key) {\n",
              "      const quickchartButtonEl =\n",
              "        document.querySelector('#' + key + ' button');\n",
              "      quickchartButtonEl.disabled = true;  // To prevent multiple clicks.\n",
              "      quickchartButtonEl.classList.add('colab-df-spinner');\n",
              "      try {\n",
              "        const charts = await google.colab.kernel.invokeFunction(\n",
              "            'suggestCharts', [key], {});\n",
              "      } catch (error) {\n",
              "        console.error('Error during call to suggestCharts:', error);\n",
              "      }\n",
              "      quickchartButtonEl.classList.remove('colab-df-spinner');\n",
              "      quickchartButtonEl.classList.add('colab-df-quickchart-complete');\n",
              "    }\n",
              "    (() => {\n",
              "      let quickchartButtonEl =\n",
              "        document.querySelector('#df-cfa32dd2-836b-46ce-8428-556a05a7bf68 button');\n",
              "      quickchartButtonEl.style.display =\n",
              "        google.colab.kernel.accessAllowed ? 'block' : 'none';\n",
              "    })();\n",
              "  </script>\n",
              "</div>\n",
              "\n",
              "  <div id=\"id_2f01ebde-e298-41da-94db-4fb2dcd869eb\">\n",
              "    <style>\n",
              "      .colab-df-generate {\n",
              "        background-color: #E8F0FE;\n",
              "        border: none;\n",
              "        border-radius: 50%;\n",
              "        cursor: pointer;\n",
              "        display: none;\n",
              "        fill: #1967D2;\n",
              "        height: 32px;\n",
              "        padding: 0 0 0 0;\n",
              "        width: 32px;\n",
              "      }\n",
              "\n",
              "      .colab-df-generate:hover {\n",
              "        background-color: #E2EBFA;\n",
              "        box-shadow: 0px 1px 2px rgba(60, 64, 67, 0.3), 0px 1px 3px 1px rgba(60, 64, 67, 0.15);\n",
              "        fill: #174EA6;\n",
              "      }\n",
              "\n",
              "      [theme=dark] .colab-df-generate {\n",
              "        background-color: #3B4455;\n",
              "        fill: #D2E3FC;\n",
              "      }\n",
              "\n",
              "      [theme=dark] .colab-df-generate:hover {\n",
              "        background-color: #434B5C;\n",
              "        box-shadow: 0px 1px 3px 1px rgba(0, 0, 0, 0.15);\n",
              "        filter: drop-shadow(0px 1px 2px rgba(0, 0, 0, 0.3));\n",
              "        fill: #FFFFFF;\n",
              "      }\n",
              "    </style>\n",
              "    <button class=\"colab-df-generate\" onclick=\"generateWithVariable('data')\"\n",
              "            title=\"Generate code using this dataframe.\"\n",
              "            style=\"display:none;\">\n",
              "\n",
              "  <svg xmlns=\"http://www.w3.org/2000/svg\" height=\"24px\"viewBox=\"0 0 24 24\"\n",
              "       width=\"24px\">\n",
              "    <path d=\"M7,19H8.4L18.45,9,17,7.55,7,17.6ZM5,21V16.75L18.45,3.32a2,2,0,0,1,2.83,0l1.4,1.43a1.91,1.91,0,0,1,.58,1.4,1.91,1.91,0,0,1-.58,1.4L9.25,21ZM18.45,9,17,7.55Zm-12,3A5.31,5.31,0,0,0,4.9,8.1,5.31,5.31,0,0,0,1,6.5,5.31,5.31,0,0,0,4.9,4.9,5.31,5.31,0,0,0,6.5,1,5.31,5.31,0,0,0,8.1,4.9,5.31,5.31,0,0,0,12,6.5,5.46,5.46,0,0,0,6.5,12Z\"/>\n",
              "  </svg>\n",
              "    </button>\n",
              "    <script>\n",
              "      (() => {\n",
              "      const buttonEl =\n",
              "        document.querySelector('#id_2f01ebde-e298-41da-94db-4fb2dcd869eb button.colab-df-generate');\n",
              "      buttonEl.style.display =\n",
              "        google.colab.kernel.accessAllowed ? 'block' : 'none';\n",
              "\n",
              "      buttonEl.onclick = () => {\n",
              "        google.colab.notebook.generateWithVariable('data');\n",
              "      }\n",
              "      })();\n",
              "    </script>\n",
              "  </div>\n",
              "\n",
              "    </div>\n",
              "  </div>\n"
            ],
            "application/vnd.google.colaboratory.intrinsic+json": {
              "type": "dataframe",
              "variable_name": "data",
              "summary": "{\n  \"name\": \"data\",\n  \"rows\": 3000,\n  \"fields\": [\n    {\n      \"column\": \"Velocidad\",\n      \"properties\": {\n        \"dtype\": \"number\",\n        \"std\": 205.65964986759843,\n        \"min\": 9.57362201409506,\n        \"max\": 1295.3920966708288,\n        \"num_unique_values\": 3000,\n        \"samples\": [\n          713.6990726044723,\n          461.2056405133269,\n          533.8229163280891\n        ],\n        \"semantic_type\": \"\",\n        \"description\": \"\"\n      }\n    }\n  ]\n}"
            }
          },
          "metadata": {},
          "execution_count": 143
        }
      ],
      "source": [
        "#inciso a\n",
        "url= \"https://raw.githubusercontent.com/asegura4488/Database/main/MetodosComputacionalesReforma/Maxwell.csv\"\n",
        "data = pd.read_csv(url,sep=',')\n",
        "data"
      ]
    },
    {
      "cell_type": "code",
      "source": [
        "#inciso b: Histograma\n",
        "ord=data['Velocidad'].sort_values()\n",
        "ord.hist(bins=60)\n",
        "plt.xlabel(\"Velocidad\")\n",
        "plt.ylabel(\"Frecuencia\")\n",
        "plt.show()"
      ],
      "metadata": {
        "colab": {
          "base_uri": "https://localhost:8080/",
          "height": 449
        },
        "id": "dmAorP-mcI3M",
        "outputId": "9be20bfe-8391-433b-ce70-19c982eb99bd"
      },
      "execution_count": 144,
      "outputs": [
        {
          "output_type": "display_data",
          "data": {
            "text/plain": [
              "<Figure size 640x480 with 1 Axes>"
            ],
            "image/png": "[encoded data removed]"
          },
          "metadata": {}
        }
      ]
    },
    {
      "cell_type": "code",
      "source": [
        "#inciso C\n",
        "histograma = data['Velocidad'].sort_values().value_counts()\n",
        "norm = histograma/histograma.sum()\n",
        "promedio=np.sum(norm.index*norm.values)\n",
        "promedio"
      ],
      "metadata": {
        "colab": {
          "base_uri": "https://localhost:8080/"
        },
        "id": "vPqMWeI-cwJc",
        "outputId": "8b0d946c-8819-49ed-d758-075136e4e0e7"
      },
      "execution_count": 145,
      "outputs": [
        {
          "output_type": "execute_result",
          "data": {
            "text/plain": [
              "472.17578290610606"
            ]
          },
          "metadata": {},
          "execution_count": 145
        }
      ]
    },
    {
      "cell_type": "code",
      "source": [
        "#inciso d\n",
        "m=0.028\n",
        "k_B=8.31\n",
        "def Likelihood(v, T, m=0.028, k_B=8.31):\n",
        "    factor=(m / (2 * np.pi * k_B * T))**(3/2)\n",
        "    return ( factor *( 4 * np.pi * v**2 )* np.exp(-m * v**2 / (2 * k_B * T)))\n",
        "\n"
      ],
      "metadata": {
        "id": "qT6D5wGYlkS-"
      },
      "execution_count": 146,
      "outputs": []
    },
    {
      "cell_type": "code",
      "source": [
        "#inciso e\n",
        "hist, bin_edges = np.histogram(data, bins=60, density=True)\n",
        "bin_centers = (bin_edges[:-1] + bin_edges[1:]) / 2\n",
        "\n",
        "def fit_function(v, T):\n",
        "    return Likelihood(v, T)\n",
        "\n",
        "popt, pcov = curve_fit(fit_function, bin_centers, hist, p0=[200])\n",
        "T_fit = popt[0]\n",
        "T_fit"
      ],
      "metadata": {
        "colab": {
          "base_uri": "https://localhost:8080/"
        },
        "id": "rG1q1w9e8_Gb",
        "outputId": "67a81c15-5bfb-4a91-94de-8b2179189801"
      },
      "execution_count": 147,
      "outputs": [
        {
          "output_type": "execute_result",
          "data": {
            "text/plain": [
              "295.92007184560845"
            ]
          },
          "metadata": {},
          "execution_count": 147
        }
      ]
    },
    {
      "cell_type": "code",
      "source": [
        "plt.figure(figsize=(6, 4))\n",
        "plt.hist(data[\"Velocidad\"],bins=60,density=True)\n",
        "xp=np.linspace(1,1300,60)\n",
        "plt.plot(xp,Likelihood(xp,T_fit),color='r',label=f\"Ajuste (T = {T_fit:.2f} K)\")\n",
        "plt.xlabel(\"Velocidad\")\n",
        "plt.ylabel(\"Frecuencia\")\n",
        "plt.legend()"
      ],
      "metadata": {
        "colab": {
          "base_uri": "https://localhost:8080/",
          "height": 406
        },
        "id": "p7G4_k4ksApW",
        "outputId": "f1608104-b61d-45d6-8037-6145e52cbe11"
      },
      "execution_count": 148,
      "outputs": [
        {
          "output_type": "execute_result",
          "data": {
            "text/plain": [
              "<matplotlib.legend.Legend at 0x7d6cc7019c00>"
            ]
          },
          "metadata": {},
          "execution_count": 148
        },
        {
          "output_type": "display_data",
          "data": {
            "text/plain": [
              "<Figure size 600x400 with 1 Axes>"
            ],
            "image/png": "[encoded data removed]"
          },
          "metadata": {}
        }
      ]
    },
    {
      "cell_type": "code",
      "source": [
        "#inciso f\n",
        "conteos, bordes = np.histogram(data, bins=30)\n",
        "indice_moda = np.argmax(conteos)\n",
        "vp = (bordes[indice_moda] + bordes[indice_moda + 1]) / 2\n",
        "vp"
      ],
      "metadata": {
        "colab": {
          "base_uri": "https://localhost:8080/"
        },
        "id": "gcumJUbRwRI9",
        "outputId": "1aa782d1-7098-4b99-e1ea-c2330a1156df"
      },
      "execution_count": 149,
      "outputs": [
        {
          "output_type": "execute_result",
          "data": {
            "text/plain": [
              "373.8888565001696"
            ]
          },
          "metadata": {},
          "execution_count": 149
        }
      ]
    },
    {
      "cell_type": "code",
      "source": [
        "#inciso g\n",
        "vm= (2/np.sqrt(np.pi))*vp\n",
        "vm\n",
        "\n",
        "#El valor empírico fue de 471, lo cual esta relativamente cercano al valor con el ajuste, sim embargo la diferencia puede deberse a que la distribución supone un gas ideal,\n",
        "#isotrópico y sin interacciones moleculares significativas. Si los datos empíricos provienen de un sistema que se desvía de estas condiciones,\n",
        "# las diferencias entre el modelo y la realidad pueden ser más marcadas."
      ],
      "metadata": {
        "colab": {
          "base_uri": "https://localhost:8080/"
        },
        "id": "OnsF8XoV12L2",
        "outputId": "9ff69ba7-7a78-4d9f-dba0-e6a8c273c76c"
      },
      "execution_count": 150,
      "outputs": [
        {
          "output_type": "execute_result",
          "data": {
            "text/plain": [
              "421.888396483955"
            ]
          },
          "metadata": {},
          "execution_count": 150
        }
      ]
    },
    {
      "cell_type": "code",
      "source": [
        "v_rms = np.sqrt(np.mean(data[\"Velocidad\"]**2))\n",
        "v_rms"
      ],
      "metadata": {
        "colab": {
          "base_uri": "https://localhost:8080/"
        },
        "id": "zm575By9BGVj",
        "outputId": "90c56815-995a-4606-93f6-f85da102f7e3"
      },
      "execution_count": 151,
      "outputs": [
        {
          "output_type": "execute_result",
          "data": {
            "text/plain": [
              "515.0065658961344"
            ]
          },
          "metadata": {},
          "execution_count": 151
        }
      ]
    },
    {
      "cell_type": "code",
      "source": [
        "def LogPrior(T):\n",
        "    if 200 < T < 400:\n",
        "        return 0.0\n",
        "    else:\n",
        "        return -np.inf"
      ],
      "metadata": {
        "id": "gu_4vM42P7hb"
      },
      "execution_count": 152,
      "outputs": []
    },
    {
      "cell_type": "code",
      "source": [
        "def LogLikelihood(T, v_data):\n",
        "    model = Likelihood(v_data, T)\n",
        "    if np.any(model <= 0):\n",
        "        return -np.inf\n",
        "    return np.sum(np.log(model))"
      ],
      "metadata": {
        "id": "9Qu-0MXxP9dx"
      },
      "execution_count": 153,
      "outputs": []
    },
    {
      "cell_type": "code",
      "source": [
        "def LogPosterior(T, v_data):\n",
        "    LogP = LogPrior(T)\n",
        "    if not np.isfinite(LogP):\n",
        "        return -np.inf\n",
        "    return LogP + LogLikelihood(T, v_data)"
      ],
      "metadata": {
        "id": "tGnVtMHjP-e8"
      },
      "execution_count": 154,
      "outputs": []
    },
    {
      "cell_type": "code",
      "source": [
        "n_walkers = 10\n",
        "n_params = 1\n",
        "p0 = np.random.uniform(200, 400, size=(n_walkers, n_params))"
      ],
      "metadata": {
        "id": "9dAwQm14P_z5"
      },
      "execution_count": 155,
      "outputs": []
    },
    {
      "cell_type": "code",
      "source": [
        "sampler = emcee.EnsembleSampler(n_walkers, n_params, LogPosterior, args=(data[\"Velocidad\"],))\n",
        "pos, prob, state = sampler.run_mcmc(p0, 10000, progress=True)\n",
        "samples = sampler.get_chain(flat=True)  # Aplanar la cadena\n",
        "T_samples = samples[:, 0]"
      ],
      "metadata": {
        "colab": {
          "base_uri": "https://localhost:8080/"
        },
        "id": "cY4KRCcpQBkK",
        "outputId": "08ac6175-906c-4ddc-b2f2-45479ad68e7f"
      },
      "execution_count": 156,
      "outputs": [
        {
          "output_type": "stream",
          "name": "stderr",
          "text": [
            "100%|██████████| 10000/10000 [02:17<00:00, 72.62it/s]\n"
          ]
        }
      ]
    },
    {
      "cell_type": "code",
      "source": [
        "T_mean = np.mean(T_samples)\n",
        "T_std = np.std(T_samples)\n",
        "T_lower = np.percentile(T_samples, 2.5)\n",
        "T_upper = np.percentile(T_samples, 97.5)\n",
        "\n",
        "print(f\"Media de T: {T_mean:.2f} K\")\n",
        "print(f\"Desviación estándar de T: {T_std:.2f} K\")\n",
        "print(f\"Intervalo de confianza 95%: [{T_lower:.2f}, {T_upper:.2f}] K\")"
      ],
      "metadata": {
        "colab": {
          "base_uri": "https://localhost:8080/"
        },
        "id": "C2mkUODjQDAh",
        "outputId": "3f03f9eb-e783-4db5-c36a-bfb46de730fe"
      },
      "execution_count": 158,
      "outputs": [
        {
          "output_type": "stream",
          "name": "stdout",
          "text": [
            "Media de T: 298.05 K\n",
            "Desviación estándar de T: 4.74 K\n",
            "Intervalo de confianza 95%: [289.22, 306.98] K\n"
          ]
        }
      ]
    },
    {
      "cell_type": "markdown",
      "source": [
        "#Problema 10: Higgs boson discovery\n"
      ],
      "metadata": {
        "id": "lqmv4x_5EXTC"
      }
    },
    {
      "cell_type": "markdown",
      "source": [
        "Imagine que se encuentra en el laboratorio CERN y está colaborando en el descubrimiento de una nueva partícula. Una de sus tareas es realizar la estimación de parámetros de la nueva partícula, la cuál está caracterizada por su masa y su ancho. Para realizar esta tarea se sugiere la siguiente estrategía:\n"
      ],
      "metadata": {
        "id": "5JSaCEOGEYtB"
      }
    },
    {
      "cell_type": "markdown",
      "source": [
        "a. Descargue los datos de la masa invariante de dos fotones Higgs dataset.  Estamos estudiando el canal de Higgs a dos fotones (H→γγ)"
      ],
      "metadata": {
        "id": "6Z_tS-OMEasC"
      }
    },
    {
      "cell_type": "code",
      "source": [
        "file = '/content/drive/MyDrive/Colab Notebooks/Datos/HiggsFitting.csv'\n",
        "file"
      ],
      "metadata": {
        "colab": {
          "base_uri": "https://localhost:8080/",
          "height": 36
        },
        "id": "MZBpYY8eEeIa",
        "outputId": "f4b85fc2-5c24-4ea5-84f7-d98f9161c905"
      },
      "execution_count": 160,
      "outputs": [
        {
          "output_type": "execute_result",
          "data": {
            "text/plain": [
              "'/content/drive/MyDrive/Colab Notebooks/Datos/HiggsFitting.csv'"
            ],
            "application/vnd.google.colaboratory.intrinsic+json": {
              "type": "string"
            }
          },
          "metadata": {},
          "execution_count": 160
        }
      ]
    },
    {
      "cell_type": "code",
      "source": [
        "data = pd.read_csv(file,sep=',')\n",
        "data.keys()"
      ],
      "metadata": {
        "colab": {
          "base_uri": "https://localhost:8080/"
        },
        "id": "EYO_3-6qEfta",
        "outputId": "422c8d35-42db-4550-c83e-29d6fe1b764f"
      },
      "execution_count": 161,
      "outputs": [
        {
          "output_type": "execute_result",
          "data": {
            "text/plain": [
              "Index(['Higgs'], dtype='object')"
            ]
          },
          "metadata": {},
          "execution_count": 161
        }
      ]
    },
    {
      "cell_type": "code",
      "source": [
        "X = data['Higgs']"
      ],
      "metadata": {
        "id": "McZ6oPK1EiGD"
      },
      "execution_count": 162,
      "outputs": []
    },
    {
      "cell_type": "markdown",
      "source": [
        "b. Dibuje la distribución de frecuencia de los datos entre 100 y 160 GeV, en 30 bines. El dibujo debería tener la barra de error del histograma."
      ],
      "metadata": {
        "id": "5CngDJHZEj8i"
      }
    },
    {
      "cell_type": "code",
      "source": [
        "m = np.linspace(100, 160, 31)\n",
        "\n",
        "# Calcular el histograma con normalización\n",
        "prob, bin_edges = np.histogram(X, bins=m, density=True)\n",
        "bin_centers = (bin_edges[:-1] + bin_edges[1:]) / 2\n",
        "\n",
        "# Calcular el error estándar para cada bin:\n",
        "bin_width = bin_edges[1] - bin_edges[0]\n",
        "errors = np.sqrt(prob * bin_width)\n",
        "\n",
        "# Graficar el histograma con barras de error\n",
        "plt.bar(bin_centers, prob, width=bin_width)\n",
        "plt.errorbar(bin_centers, prob, yerr=0.005*errors, fmt='none', color='black', capsize=5)\n",
        "\n",
        "plt.xlabel('Masa (GeV)')\n",
        "plt.ylabel('Densidad de probabilidad')\n",
        "plt.title('Histograma con barras de error')\n",
        "plt.show()"
      ],
      "metadata": {
        "colab": {
          "base_uri": "https://localhost:8080/",
          "height": 472
        },
        "id": "1NHgCS1oEmMZ",
        "outputId": "782107a1-7db4-4df7-e543-a2e3bbefb295"
      },
      "execution_count": 163,
      "outputs": [
        {
          "output_type": "display_data",
          "data": {
            "text/plain": [
              "<Figure size 640x480 with 1 Axes>"
            ],
            "image/png": "[encoded data removed]"
          },
          "metadata": {}
        }
      ]
    },
    {
      "cell_type": "markdown",
      "source": [
        "c. Defina el modelo para la hipótesis nula, es decir el escenario donde no existe el bosón de Higgs."
      ],
      "metadata": {
        "id": "dUA0AM7IEuFa"
      }
    },
    {
      "cell_type": "code",
      "source": [
        "def Modelo_Nula(a,x):\n",
        "    return (1/a)*np.exp(-(x-100)/a)"
      ],
      "metadata": {
        "id": "NsQ1uH9zEtha"
      },
      "execution_count": 164,
      "outputs": []
    },
    {
      "cell_type": "markdown",
      "source": [
        "d. Defina la función de minimizar, en este caso es el negativo de la función conjunta de verosimilud"
      ],
      "metadata": {
        "id": "6RY-JQSvEwnB"
      }
    },
    {
      "cell_type": "code",
      "source": [
        "def Likelihood_Nula(a,x):\n",
        "    return -1*(np.sum(np.log(Modelo_Nula(a,x))))"
      ],
      "metadata": {
        "id": "Z1rCcLetFHs6"
      },
      "execution_count": 165,
      "outputs": []
    },
    {
      "cell_type": "markdown",
      "source": [
        "e. Use el paquete optimize para encontrar el parámetro de la hipótesis nula. Use el siguiente límite del parámetro: bounds =((0,50),)."
      ],
      "metadata": {
        "id": "4T-1hHaTFMrq"
      }
    },
    {
      "cell_type": "code",
      "source": [
        "x0=np.array([10.])\n",
        "result_nulo = spo.minimize(Likelihood_Nula, x0, args=(X), bounds=((0,50),))\n",
        "a_nula = result_nulo.x[0]\n",
        "a_nula"
      ],
      "metadata": {
        "colab": {
          "base_uri": "https://localhost:8080/"
        },
        "id": "ftWN-NdAFNZC",
        "outputId": "2a668c81-0906-4fda-89d3-2afdb29ebb26"
      },
      "execution_count": 166,
      "outputs": [
        {
          "output_type": "execute_result",
          "data": {
            "text/plain": [
              "17.61888053628762"
            ]
          },
          "metadata": {},
          "execution_count": 166
        }
      ]
    },
    {
      "cell_type": "code",
      "source": [
        "X_Nula = np.linspace(100,160,2250)"
      ],
      "metadata": {
        "id": "TvkAM9KMFR-S"
      },
      "execution_count": 167,
      "outputs": []
    },
    {
      "cell_type": "code",
      "source": [
        "plt.plot(X_Nula,Modelo_Nula(a_nula,X_Nula),linestyle='--', color='blue', label='b best fit')\n",
        "plt.errorbar(bin_centers, prob, yerr=0.005*errors, fmt='none', color='black', capsize=5)\n",
        "plt.xlabel('M(H)[GeV]')\n",
        "plt.ylabel('a.u.')\n",
        "plt.legend()\n",
        "plt.show()"
      ],
      "metadata": {
        "colab": {
          "base_uri": "https://localhost:8080/",
          "height": 449
        },
        "id": "BLql2DPVFTAx",
        "outputId": "a1eb7e8b-006a-46ee-92e8-b0b0800b00f5"
      },
      "execution_count": 168,
      "outputs": [
        {
          "output_type": "display_data",
          "data": {
            "text/plain": [
              "<Figure size 640x480 with 1 Axes>"
            ],
            "image/png": "[encoded data removed]"
          },
          "metadata": {}
        }
      ]
    },
    {
      "cell_type": "markdown",
      "source": [
        "g. Defina el modelo para la hipótesis alternativa, es decir el escenario donde si existe el bosón de Higgs"
      ],
      "metadata": {
        "id": "rkP8rsu1Fg9T"
      }
    },
    {
      "cell_type": "code",
      "source": [
        "def Modelo_Alt(params,x):\n",
        "    A,mu,sigma,a = params\n",
        "    return (A)*(1/np.sqrt(2*np.pi*(sigma)**2))*np.exp(-(x-mu)**2/(2*sigma**2))+(1-A)*(1/a)*np.exp(-(x-100)/a)"
      ],
      "metadata": {
        "id": "2SsnTjRgFh-S"
      },
      "execution_count": 169,
      "outputs": []
    },
    {
      "cell_type": "markdown",
      "source": [
        "h. Defina la función de minimizar, en este caso es el negativo de la función conjunta de verosimilud"
      ],
      "metadata": {
        "id": "j1WqeNIiFkJS"
      }
    },
    {
      "cell_type": "code",
      "source": [
        "def Likelihood_Alt(params,x):\n",
        "    return -1*np.sum(np.log(Modelo_Alt(params,x)))"
      ],
      "metadata": {
        "id": "Ib8DoyS1Flw6"
      },
      "execution_count": 184,
      "outputs": []
    },
    {
      "cell_type": "markdown",
      "source": [
        "i. Use el paquete optimize para encontrar el parámetro de la hipótesis alternativa. Use el siguiente límite del parámetro: bounds = ( (0,1),(50,500),(1,100), (1,100))"
      ],
      "metadata": {
        "id": "RJtMLT5IFnd5"
      }
    },
    {
      "cell_type": "code",
      "source": [
        "x0=np.array([0.14,120.,1.,10.]) #Se usa un valor cercano dado que, si no, converge a otros valores\n",
        "result = spo.minimize(Likelihood_Alt, x0, args=(X), bounds = [(0, 1), (50, 500), (1, 100), (1, 100)])\n",
        "a_alt = result.x\n",
        "a_alt"
      ],
      "metadata": {
        "colab": {
          "base_uri": "https://localhost:8080/"
        },
        "id": "x5iAcy3BFp_q",
        "outputId": "7830013b-16fe-45b5-bbeb-3f17af34f4b4"
      },
      "execution_count": 171,
      "outputs": [
        {
          "output_type": "execute_result",
          "data": {
            "text/plain": [
              "array([  0.14211058, 125.19823581,   2.77539021,  16.36332131])"
            ]
          },
          "metadata": {},
          "execution_count": 171
        }
      ]
    },
    {
      "cell_type": "markdown",
      "source": [
        "j. Encuentre el mejor ajuste de la hipótesis alternativa y dibuje ambos ajustes:"
      ],
      "metadata": {
        "id": "STek7TXFFuWL"
      }
    },
    {
      "cell_type": "code",
      "source": [
        "Y_Alt = Modelo_Alt(a_alt,X_Nula)\n",
        "plt.plot(X_Nula,Y_Alt, color = 'r', label = 's+b best fit')\n",
        "plt.plot(X_Nula,Modelo_Nula(a_nula,X_Nula),linestyle='--', color='blue', label='b best fit')\n",
        "plt.errorbar(bin_centers, prob, yerr=0.005*errors, fmt='none', color='black', capsize=5)\n",
        "plt.xlabel('M(H)[GeV]')\n",
        "plt.ylabel('a.u.')\n",
        "plt.legend()\n",
        "plt.show()"
      ],
      "metadata": {
        "colab": {
          "base_uri": "https://localhost:8080/",
          "height": 449
        },
        "id": "Iv_i7LYZFsoJ",
        "outputId": "b8be7f0c-1bce-4f23-b768-30b8697122fe"
      },
      "execution_count": 172,
      "outputs": [
        {
          "output_type": "display_data",
          "data": {
            "text/plain": [
              "<Figure size 640x480 with 1 Axes>"
            ],
            "image/png": "[encoded data removed]"
          },
          "metadata": {}
        }
      ]
    },
    {
      "cell_type": "markdown",
      "source": [
        "k. ¿Cuál es el valor de las constantes físicas?"
      ],
      "metadata": {
        "id": "D1XNq-UYF1sa"
      }
    },
    {
      "cell_type": "code",
      "source": [
        "A,mu,sigma,a = a_alt\n",
        "\n",
        "print(\"El valor de A es: {}\".format(A))\n",
        "print(\"El valor de mu es: {}\".format(mu))\n",
        "print(\"El valor de sigma es: {}\".format(sigma))\n",
        "print(\"El valor de a es: {}\".format(a))"
      ],
      "metadata": {
        "colab": {
          "base_uri": "https://localhost:8080/"
        },
        "id": "IFzQHdrvHmix",
        "outputId": "8d10fec7-8101-413b-c165-012804ccac76"
      },
      "execution_count": 173,
      "outputs": [
        {
          "output_type": "stream",
          "name": "stdout",
          "text": [
            "El valor de A es: 0.14211057824274945\n",
            "El valor de mu es: 125.19823581388953\n",
            "El valor de sigma es: 2.77539020584632\n",
            "El valor de a es: 16.363321307160984\n"
          ]
        }
      ]
    },
    {
      "cell_type": "markdown",
      "source": [
        "i. Estime el número de desviaciones estándar entre la observación y la hipótesis nula"
      ],
      "metadata": {
        "id": "D2gWJwQLHniL"
      }
    },
    {
      "cell_type": "code",
      "source": [
        "n_sigma = np.sqrt(2*(Likelihood_Alt(a_alt, X_Nula) - Likelihood_Nula(a_nula,X_Nula)))\n",
        "n_sigma"
      ],
      "metadata": {
        "colab": {
          "base_uri": "https://localhost:8080/"
        },
        "id": "rf-NvUfeIERJ",
        "outputId": "a268075c-85f2-4102-ec9c-a9fb21e19bfe"
      },
      "execution_count": 174,
      "outputs": [
        {
          "output_type": "execute_result",
          "data": {
            "text/plain": [
              "17.71455883647618"
            ]
          },
          "metadata": {},
          "execution_count": 174
        }
      ]
    },
    {
      "cell_type": "markdown",
      "source": [
        "m. Con el valor de σ, encuentre el tiempo de vida de la partícula"
      ],
      "metadata": {
        "id": "7CAE9hkuIU8R"
      }
    },
    {
      "cell_type": "code",
      "source": [
        "tiempo_de_vida = (6.626e-34)/(sigma*(1.6022e-10)) #El valor de h en julios es 6.626e-34 J*s\n",
        "tiempo_de_vida"
      ],
      "metadata": {
        "colab": {
          "base_uri": "https://localhost:8080/"
        },
        "id": "9mNpclySIXwh",
        "outputId": "533abbc7-1352-42dc-cae1-4efea450d2c8"
      },
      "execution_count": 175,
      "outputs": [
        {
          "output_type": "execute_result",
          "data": {
            "text/plain": [
              "1.4900836615112446e-24"
            ]
          },
          "metadata": {},
          "execution_count": 175
        }
      ]
    },
    {
      "cell_type": "markdown",
      "source": [
        "n. Ahora debe calcular los errores en la estimación del modelo con bosón de Higgs. Para esto vamos a usar el paquete emceepara encontrar la distribución posterior marginal. Use las funciones de verosimilitud mostradas en los incisos anteriores y defina una distribución prior:"
      ],
      "metadata": {
        "id": "maf4KyQDIbS5"
      }
    },
    {
      "cell_type": "code",
      "source": [
        "!pip install emcee\n",
        "!pip install corner"
      ],
      "metadata": {
        "colab": {
          "base_uri": "https://localhost:8080/"
        },
        "id": "bGoVdH5SIdZo",
        "outputId": "3f8cc0a4-e0d1-4770-84e9-2bd7967865d6"
      },
      "execution_count": 176,
      "outputs": [
        {
          "output_type": "stream",
          "name": "stdout",
          "text": [
            "Requirement already satisfied: emcee in /usr/local/lib/python3.10/dist-packages (3.1.6)\n",
            "Requirement already satisfied: numpy in /usr/local/lib/python3.10/dist-packages (from emcee) (1.26.4)\n",
            "Requirement already satisfied: corner in /usr/local/lib/python3.10/dist-packages (2.2.3)\n",
            "Requirement already satisfied: matplotlib>=2.1 in /usr/local/lib/python3.10/dist-packages (from corner) (3.8.0)\n",
            "Requirement already satisfied: contourpy>=1.0.1 in /usr/local/lib/python3.10/dist-packages (from matplotlib>=2.1->corner) (1.3.1)\n",
            "Requirement already satisfied: cycler>=0.10 in /usr/local/lib/python3.10/dist-packages (from matplotlib>=2.1->corner) (0.12.1)\n",
            "Requirement already satisfied: fonttools>=4.22.0 in /usr/local/lib/python3.10/dist-packages (from matplotlib>=2.1->corner) (4.55.0)\n",
            "Requirement already satisfied: kiwisolver>=1.0.1 in /usr/local/lib/python3.10/dist-packages (from matplotlib>=2.1->corner) (1.4.7)\n",
            "Requirement already satisfied: numpy<2,>=1.21 in /usr/local/lib/python3.10/dist-packages (from matplotlib>=2.1->corner) (1.26.4)\n",
            "Requirement already satisfied: packaging>=20.0 in /usr/local/lib/python3.10/dist-packages (from matplotlib>=2.1->corner) (24.2)\n",
            "Requirement already satisfied: pillow>=6.2.0 in /usr/local/lib/python3.10/dist-packages (from matplotlib>=2.1->corner) (11.0.0)\n",
            "Requirement already satisfied: pyparsing>=2.3.1 in /usr/local/lib/python3.10/dist-packages (from matplotlib>=2.1->corner) (3.2.0)\n",
            "Requirement already satisfied: python-dateutil>=2.7 in /usr/local/lib/python3.10/dist-packages (from matplotlib>=2.1->corner) (2.8.2)\n",
            "Requirement already satisfied: six>=1.5 in /usr/local/lib/python3.10/dist-packages (from python-dateutil>=2.7->matplotlib>=2.1->corner) (1.16.0)\n"
          ]
        }
      ]
    },
    {
      "cell_type": "code",
      "source": [
        "import emcee\n",
        "import corner"
      ],
      "metadata": {
        "id": "X6v7f-L-I9b5"
      },
      "execution_count": 177,
      "outputs": []
    },
    {
      "cell_type": "code",
      "source": [
        "def JointLikelihood(p,x):\n",
        "  return +np.sum(np.log(Modelo_Alt(p,x)))"
      ],
      "metadata": {
        "id": "KuIJ-DfpI_2Z"
      },
      "execution_count": 178,
      "outputs": []
    },
    {
      "cell_type": "code",
      "source": [
        "def LogPrior(p):\n",
        "    A, mu, sigma, alpha = p\n",
        "    if 0. < A < 1. and  100. <= mu <= 300. and 0.1 <= sigma <= 20. and 1 <= alpha <= 50:\n",
        "        return 0.\n",
        "    else:\n",
        "        return -np.inf"
      ],
      "metadata": {
        "id": "j_UuNqH-JHJR"
      },
      "execution_count": 179,
      "outputs": []
    },
    {
      "cell_type": "code",
      "source": [
        "def LogPosterior(p,x):\n",
        "  LogP = LogPrior(p)\n",
        "  if not np.isfinite(LogP):\n",
        "    return -np.inf\n",
        "  else:\n",
        "    return LogP + JointLikelihood(p,x)"
      ],
      "metadata": {
        "id": "PI-DKspbJHvC"
      },
      "execution_count": 180,
      "outputs": []
    },
    {
      "cell_type": "code",
      "source": [
        "n_walkers, n_params = 20,4\n",
        "p0 = np.zeros((n_walkers, n_params))\n",
        "p0[:, 0] = np.random.uniform(0., 1., n_walkers)       # A\n",
        "p0[:, 1] = np.random.uniform(100., 150., n_walkers)   # mu\n",
        "p0[:, 2] = np.random.uniform(0.1, 8., n_walkers)     # sigma\n",
        "p0[:, 3] = np.random.uniform(1., 20., n_walkers)      #a"
      ],
      "metadata": {
        "id": "6GX7Ia1rJNpp"
      },
      "execution_count": 193,
      "outputs": []
    },
    {
      "cell_type": "code",
      "source": [
        "sampler = emcee.EnsembleSampler(n_walkers, n_params, LogPosterior, args=(X_Nula,))\n",
        "pos,prob,state = sampler.run_mcmc(p0,10000,progress=True)"
      ],
      "metadata": {
        "colab": {
          "base_uri": "https://localhost:8080/"
        },
        "id": "VxItvKZ-Je6R",
        "outputId": "990ab459-d9af-4c37-c8a2-1fd2fae638d7"
      },
      "execution_count": 195,
      "outputs": [
        {
          "output_type": "stream",
          "name": "stderr",
          "text": [
            "100%|██████████| 10000/10000 [00:28<00:00, 345.49it/s]\n"
          ]
        }
      ]
    },
    {
      "cell_type": "markdown",
      "source": [
        "O. Genere el muestreo de la distribución posterior."
      ],
      "metadata": {
        "id": "5G5OwBnRJg6w"
      }
    },
    {
      "cell_type": "code",
      "source": [
        "fig, axes = plt.subplots(4, figsize=(10,5), sharex=True)\n",
        "\n",
        "samples = sampler.get_chain()\n",
        "labels = ['A','mu','sigma','a']\n",
        "for i in range(4):\n",
        "    ax = axes[i]\n",
        "    ax.plot(samples[:, :, i], \"k\", alpha=0.5)"
      ],
      "metadata": {
        "colab": {
          "base_uri": "https://localhost:8080/",
          "height": 449
        },
        "id": "N2c-GO_7JkOv",
        "outputId": "8de1ca54-8e42-48ab-c3ce-d6a1a833bc2a"
      },
      "execution_count": 196,
      "outputs": [
        {
          "output_type": "display_data",
          "data": {
            "text/plain": [
              "<Figure size 1000x500 with 4 Axes>"
            ],
            "image/png": "[encoded data removed]"
          },
          "metadata": {}
        }
      ]
    },
    {
      "cell_type": "code",
      "source": [
        "flat_samples = sampler.get_chain(thin=10, flat=True)\n",
        "truths = np.percentile(flat_samples, 50, axis=0)\n",
        "figure = corner.corner(flat_samples, labels=labels, truths=truths, quantiles=[0.16, 0.5, 0.84], show_titles=True)"
      ],
      "metadata": {
        "colab": {
          "base_uri": "https://localhost:8080/",
          "height": 1000
        },
        "id": "eT3d89EtJyFY",
        "outputId": "b21fbd60-e8d5-4c1f-85b1-42b899e2e7b3"
      },
      "execution_count": 197,
      "outputs": [
        {
          "output_type": "stream",
          "name": "stderr",
          "text": [
            "WARNING:root:Too few points to create valid contours\n",
            "WARNING:root:Too few points to create valid contours\n",
            "WARNING:root:Too few points to create valid contours\n",
            "WARNING:root:Too few points to create valid contours\n"
          ]
        },
        {
          "output_type": "display_data",
          "data": {
            "text/plain": [
              "<Figure size 970x970 with 16 Axes>"
            ],
            "image/png": "[encoded data removed]"
          },
          "metadata": {}
        }
      ]
    },
    {
      "cell_type": "markdown",
      "source": [
        "p. ¿Cuál es error porcentual de la estimación de la masa de esta partícula?"
      ],
      "metadata": {
        "id": "IuPy84EjMoAH"
      }
    },
    {
      "cell_type": "code",
      "source": [
        "#Tenga en cuenta que mu es el valor de la masa\n",
        "mu_metropolis = np.mean(flat_samples[:, 1])\n",
        "\n",
        "mu_real = 125.11\n",
        "\n",
        "def error_porcentual(valor_real, valor_estimado):\n",
        "    error = abs((valor_estimado - valor_real) / valor_real) * 100\n",
        "    return error\n",
        "\n",
        "error_porcentual(mu_real,mu_metropolis)"
      ],
      "metadata": {
        "colab": {
          "base_uri": "https://localhost:8080/"
        },
        "id": "zyGKW0N5MrsX",
        "outputId": "9ef9d805-e2a4-400a-d66d-13f714bee8ac"
      },
      "execution_count": 198,
      "outputs": [
        {
          "output_type": "execute_result",
          "data": {
            "text/plain": [
              "6.488779753711895"
            ]
          },
          "metadata": {},
          "execution_count": 198
        }
      ]
    },
    {
      "cell_type": "markdown",
      "source": [
        "#Problema 4: Tiempo de escape de un fotón del sol"
      ],
      "metadata": {
        "id": "-w61Eh8z3-VF"
      }
    },
    {
      "cell_type": "code",
      "source": [
        "from html import escape\n",
        "#inciso a\n",
        "def caminatas(pasos,R,lc):\n",
        "  escape=[]\n",
        "  for i in range(pasos):\n",
        "    x,y,z=0.,0.,0.\n",
        "    pasos=0\n",
        "    while np.sqrt(x**2+y**2+z**2)<=R:\n",
        "      phi=np.random.uniform(0,2*np.pi)\n",
        "      theta=np.random.uniform(0,np.pi)\n",
        "      x+=lc*np.sin(theta)*np.cos(phi)\n",
        "      y+=lc*np.sin(theta)*np.sin(phi)\n",
        "      z+=lc*np.cos(theta)\n",
        "      pasos+=1\n",
        "    escape.append(pasos)\n",
        "  return escape\n",
        "\n",
        "escape = caminatas(1000,1,0.1)\n",
        "escape"
      ],
      "metadata": {
        "colab": {
          "base_uri": "https://localhost:8080/"
        },
        "id": "aOc88Cl659j-",
        "outputId": "393e7913-0dc7-4510-82ee-70b7493c1b9b"
      },
      "execution_count": 253,
      "outputs": [
        {
          "output_type": "execute_result",
          "data": {
            "text/plain": [
              "[141,\n",
              " 224,\n",
              " 64,\n",
              " 183,\n",
              " 180,\n",
              " 62,\n",
              " 294,\n",
              " 208,\n",
              " 65,\n",
              " 76,\n",
              " 44,\n",
              " 116,\n",
              " 83,\n",
              " 94,\n",
              " 116,\n",
              " 120,\n",
              " 124,\n",
              " 78,\n",
              " 146,\n",
              " 101,\n",
              " 167,\n",
              " 131,\n",
              " 91,\n",
              " 78,\n",
              " 301,\n",
              " 22,\n",
              " 32,\n",
              " 231,\n",
              " 144,\n",
              " 101,\n",
              " 85,\n",
              " 110,\n",
              " 63,\n",
              " 154,\n",
              " 196,\n",
              " 254,\n",
              " 103,\n",
              " 170,\n",
              " 55,\n",
              " 39,\n",
              " 291,\n",
              " 58,\n",
              " 114,\n",
              " 135,\n",
              " 54,\n",
              " 57,\n",
              " 93,\n",
              " 49,\n",
              " 119,\n",
              " 126,\n",
              " 86,\n",
              " 89,\n",
              " 118,\n",
              " 60,\n",
              " 241,\n",
              " 151,\n",
              " 44,\n",
              " 36,\n",
              " 51,\n",
              " 26,\n",
              " 43,\n",
              " 80,\n",
              " 64,\n",
              " 129,\n",
              " 73,\n",
              " 43,\n",
              " 44,\n",
              " 89,\n",
              " 76,\n",
              " 173,\n",
              " 177,\n",
              " 68,\n",
              " 41,\n",
              " 93,\n",
              " 64,\n",
              " 97,\n",
              " 124,\n",
              " 105,\n",
              " 59,\n",
              " 67,\n",
              " 72,\n",
              " 186,\n",
              " 90,\n",
              " 39,\n",
              " 65,\n",
              " 123,\n",
              " 70,\n",
              " 43,\n",
              " 40,\n",
              " 102,\n",
              " 87,\n",
              " 41,\n",
              " 267,\n",
              " 45,\n",
              " 78,\n",
              " 173,\n",
              " 248,\n",
              " 149,\n",
              " 64,\n",
              " 413,\n",
              " 111,\n",
              " 175,\n",
              " 53,\n",
              " 133,\n",
              " 73,\n",
              " 102,\n",
              " 161,\n",
              " 65,\n",
              " 50,\n",
              " 87,\n",
              " 73,\n",
              " 262,\n",
              " 193,\n",
              " 139,\n",
              " 81,\n",
              " 146,\n",
              " 75,\n",
              " 177,\n",
              " 72,\n",
              " 273,\n",
              " 76,\n",
              " 164,\n",
              " 213,\n",
              " 133,\n",
              " 48,\n",
              " 79,\n",
              " 78,\n",
              " 24,\n",
              " 61,\n",
              " 63,\n",
              " 27,\n",
              " 213,\n",
              " 46,\n",
              " 137,\n",
              " 45,\n",
              " 58,\n",
              " 65,\n",
              " 45,\n",
              " 304,\n",
              " 217,\n",
              " 226,\n",
              " 193,\n",
              " 59,\n",
              " 101,\n",
              " 220,\n",
              " 55,\n",
              " 61,\n",
              " 135,\n",
              " 106,\n",
              " 84,\n",
              " 114,\n",
              " 59,\n",
              " 94,\n",
              " 208,\n",
              " 91,\n",
              " 112,\n",
              " 171,\n",
              " 105,\n",
              " 94,\n",
              " 119,\n",
              " 64,\n",
              " 120,\n",
              " 119,\n",
              " 41,\n",
              " 122,\n",
              " 64,\n",
              " 148,\n",
              " 103,\n",
              " 36,\n",
              " 103,\n",
              " 168,\n",
              " 55,\n",
              " 68,\n",
              " 61,\n",
              " 68,\n",
              " 88,\n",
              " 112,\n",
              " 78,\n",
              " 46,\n",
              " 170,\n",
              " 270,\n",
              " 89,\n",
              " 100,\n",
              " 130,\n",
              " 112,\n",
              " 166,\n",
              " 61,\n",
              " 92,\n",
              " 23,\n",
              " 155,\n",
              " 39,\n",
              " 126,\n",
              " 164,\n",
              " 125,\n",
              " 51,\n",
              " 66,\n",
              " 52,\n",
              " 64,\n",
              " 53,\n",
              " 80,\n",
              " 202,\n",
              " 286,\n",
              " 49,\n",
              " 272,\n",
              " 89,\n",
              " 106,\n",
              " 71,\n",
              " 113,\n",
              " 37,\n",
              " 84,\n",
              " 108,\n",
              " 91,\n",
              " 69,\n",
              " 160,\n",
              " 48,\n",
              " 57,\n",
              " 55,\n",
              " 33,\n",
              " 49,\n",
              " 71,\n",
              " 44,\n",
              " 63,\n",
              " 51,\n",
              " 58,\n",
              " 126,\n",
              " 45,\n",
              " 69,\n",
              " 84,\n",
              " 314,\n",
              " 124,\n",
              " 91,\n",
              " 57,\n",
              " 144,\n",
              " 158,\n",
              " 116,\n",
              " 147,\n",
              " 72,\n",
              " 105,\n",
              " 57,\n",
              " 99,\n",
              " 46,\n",
              " 92,\n",
              " 147,\n",
              " 68,\n",
              " 55,\n",
              " 54,\n",
              " 88,\n",
              " 203,\n",
              " 63,\n",
              " 111,\n",
              " 41,\n",
              " 85,\n",
              " 101,\n",
              " 59,\n",
              " 117,\n",
              " 35,\n",
              " 128,\n",
              " 298,\n",
              " 31,\n",
              " 64,\n",
              " 179,\n",
              " 125,\n",
              " 99,\n",
              " 69,\n",
              " 323,\n",
              " 40,\n",
              " 162,\n",
              " 183,\n",
              " 53,\n",
              " 237,\n",
              " 77,\n",
              " 118,\n",
              " 177,\n",
              " 94,\n",
              " 58,\n",
              " 66,\n",
              " 105,\n",
              " 43,\n",
              " 352,\n",
              " 107,\n",
              " 54,\n",
              " 49,\n",
              " 72,\n",
              " 63,\n",
              " 147,\n",
              " 128,\n",
              " 103,\n",
              " 46,\n",
              " 84,\n",
              " 99,\n",
              " 30,\n",
              " 213,\n",
              " 228,\n",
              " 79,\n",
              " 182,\n",
              " 115,\n",
              " 48,\n",
              " 106,\n",
              " 55,\n",
              " 38,\n",
              " 68,\n",
              " 109,\n",
              " 109,\n",
              " 92,\n",
              " 38,\n",
              " 84,\n",
              " 68,\n",
              " 53,\n",
              " 121,\n",
              " 32,\n",
              " 145,\n",
              " 93,\n",
              " 213,\n",
              " 127,\n",
              " 51,\n",
              " 104,\n",
              " 111,\n",
              " 40,\n",
              " 63,\n",
              " 64,\n",
              " 48,\n",
              " 160,\n",
              " 43,\n",
              " 52,\n",
              " 95,\n",
              " 130,\n",
              " 19,\n",
              " 50,\n",
              " 44,\n",
              " 58,\n",
              " 49,\n",
              " 56,\n",
              " 77,\n",
              " 101,\n",
              " 127,\n",
              " 145,\n",
              " 173,\n",
              " 44,\n",
              " 70,\n",
              " 51,\n",
              " 110,\n",
              " 142,\n",
              " 47,\n",
              " 137,\n",
              " 151,\n",
              " 20,\n",
              " 52,\n",
              " 70,\n",
              " 77,\n",
              " 67,\n",
              " 117,\n",
              " 210,\n",
              " 63,\n",
              " 120,\n",
              " 197,\n",
              " 95,\n",
              " 57,\n",
              " 45,\n",
              " 111,\n",
              " 66,\n",
              " 56,\n",
              " 152,\n",
              " 46,\n",
              " 126,\n",
              " 86,\n",
              " 71,\n",
              " 96,\n",
              " 29,\n",
              " 198,\n",
              " 220,\n",
              " 61,\n",
              " 150,\n",
              " 37,\n",
              " 31,\n",
              " 23,\n",
              " 292,\n",
              " 52,\n",
              " 144,\n",
              " 61,\n",
              " 89,\n",
              " 31,\n",
              " 236,\n",
              " 65,\n",
              " 126,\n",
              " 211,\n",
              " 62,\n",
              " 102,\n",
              " 93,\n",
              " 94,\n",
              " 104,\n",
              " 142,\n",
              " 159,\n",
              " 112,\n",
              " 127,\n",
              " 276,\n",
              " 39,\n",
              " 116,\n",
              " 108,\n",
              " 373,\n",
              " 295,\n",
              " 121,\n",
              " 88,\n",
              " 99,\n",
              " 28,\n",
              " 74,\n",
              " 123,\n",
              " 188,\n",
              " 119,\n",
              " 39,\n",
              " 80,\n",
              " 20,\n",
              " 250,\n",
              " 194,\n",
              " 161,\n",
              " 46,\n",
              " 64,\n",
              " 101,\n",
              " 113,\n",
              " 72,\n",
              " 79,\n",
              " 111,\n",
              " 74,\n",
              " 143,\n",
              " 82,\n",
              " 53,\n",
              " 96,\n",
              " 378,\n",
              " 72,\n",
              " 116,\n",
              " 121,\n",
              " 55,\n",
              " 93,\n",
              " 51,\n",
              " 55,\n",
              " 115,\n",
              " 201,\n",
              " 68,\n",
              " 106,\n",
              " 64,\n",
              " 70,\n",
              " 86,\n",
              " 192,\n",
              " 82,\n",
              " 88,\n",
              " 112,\n",
              " 139,\n",
              " 46,\n",
              " 109,\n",
              " 85,\n",
              " 141,\n",
              " 94,\n",
              " 35,\n",
              " 33,\n",
              " 38,\n",
              " 91,\n",
              " 143,\n",
              " 234,\n",
              " 98,\n",
              " 174,\n",
              " 58,\n",
              " 95,\n",
              " 232,\n",
              " 110,\n",
              " 66,\n",
              " 52,\n",
              " 38,\n",
              " 70,\n",
              " 195,\n",
              " 174,\n",
              " 159,\n",
              " 69,\n",
              " 77,\n",
              " 102,\n",
              " 169,\n",
              " 93,\n",
              " 73,\n",
              " 182,\n",
              " 53,\n",
              " 45,\n",
              " 32,\n",
              " 36,\n",
              " 352,\n",
              " 105,\n",
              " 74,\n",
              " 38,\n",
              " 129,\n",
              " 38,\n",
              " 159,\n",
              " 158,\n",
              " 60,\n",
              " 293,\n",
              " 140,\n",
              " 100,\n",
              " 39,\n",
              " 75,\n",
              " 169,\n",
              " 38,\n",
              " 93,\n",
              " 79,\n",
              " 49,\n",
              " 36,\n",
              " 42,\n",
              " 98,\n",
              " 37,\n",
              " 172,\n",
              " 75,\n",
              " 137,\n",
              " 143,\n",
              " 180,\n",
              " 163,\n",
              " 224,\n",
              " 91,\n",
              " 161,\n",
              " 188,\n",
              " 124,\n",
              " 53,\n",
              " 120,\n",
              " 119,\n",
              " 43,\n",
              " 73,\n",
              " 330,\n",
              " 73,\n",
              " 19,\n",
              " 66,\n",
              " 24,\n",
              " 53,\n",
              " 110,\n",
              " 165,\n",
              " 114,\n",
              " 64,\n",
              " 140,\n",
              " 171,\n",
              " 104,\n",
              " 64,\n",
              " 128,\n",
              " 126,\n",
              " 33,\n",
              " 204,\n",
              " 181,\n",
              " 211,\n",
              " 71,\n",
              " 39,\n",
              " 82,\n",
              " 102,\n",
              " 150,\n",
              " 106,\n",
              " 46,\n",
              " 59,\n",
              " 50,\n",
              " 124,\n",
              " 67,\n",
              " 83,\n",
              " 89,\n",
              " 343,\n",
              " 370,\n",
              " 170,\n",
              " 125,\n",
              " 147,\n",
              " 74,\n",
              " 33,\n",
              " 102,\n",
              " 39,\n",
              " 246,\n",
              " 68,\n",
              " 245,\n",
              " 138,\n",
              " 48,\n",
              " 67,\n",
              " 67,\n",
              " 183,\n",
              " 104,\n",
              " 31,\n",
              " 380,\n",
              " 135,\n",
              " 88,\n",
              " 147,\n",
              " 33,\n",
              " 38,\n",
              " 75,\n",
              " 161,\n",
              " 152,\n",
              " 99,\n",
              " 129,\n",
              " 64,\n",
              " 126,\n",
              " 143,\n",
              " 87,\n",
              " 58,\n",
              " 43,\n",
              " 156,\n",
              " 64,\n",
              " 103,\n",
              " 135,\n",
              " 45,\n",
              " 54,\n",
              " 114,\n",
              " 55,\n",
              " 67,\n",
              " 67,\n",
              " 60,\n",
              " 164,\n",
              " 60,\n",
              " 188,\n",
              " 59,\n",
              " 50,\n",
              " 59,\n",
              " 112,\n",
              " 100,\n",
              " 271,\n",
              " 37,\n",
              " 191,\n",
              " 236,\n",
              " 54,\n",
              " 237,\n",
              " 146,\n",
              " 88,\n",
              " 66,\n",
              " 27,\n",
              " 45,\n",
              " 65,\n",
              " 57,\n",
              " 176,\n",
              " 69,\n",
              " 55,\n",
              " 98,\n",
              " 91,\n",
              " 49,\n",
              " 121,\n",
              " 32,\n",
              " 317,\n",
              " 42,\n",
              " 333,\n",
              " 47,\n",
              " 54,\n",
              " 90,\n",
              " 61,\n",
              " 117,\n",
              " 123,\n",
              " 230,\n",
              " 179,\n",
              " 113,\n",
              " 42,\n",
              " 133,\n",
              " 79,\n",
              " 106,\n",
              " 105,\n",
              " 166,\n",
              " 112,\n",
              " 81,\n",
              " 47,\n",
              " 81,\n",
              " 97,\n",
              " 77,\n",
              " 62,\n",
              " 51,\n",
              " 207,\n",
              " 118,\n",
              " 74,\n",
              " 82,\n",
              " 49,\n",
              " 175,\n",
              " 321,\n",
              " 55,\n",
              " 92,\n",
              " 282,\n",
              " 121,\n",
              " 85,\n",
              " 82,\n",
              " 52,\n",
              " 165,\n",
              " 65,\n",
              " 50,\n",
              " 24,\n",
              " 70,\n",
              " 115,\n",
              " 103,\n",
              " 41,\n",
              " 88,\n",
              " 113,\n",
              " 72,\n",
              " 211,\n",
              " 83,\n",
              " 39,\n",
              " 135,\n",
              " 52,\n",
              " 98,\n",
              " 274,\n",
              " 126,\n",
              " 123,\n",
              " 230,\n",
              " 50,\n",
              " 413,\n",
              " 89,\n",
              " 65,\n",
              " 38,\n",
              " 137,\n",
              " 188,\n",
              " 272,\n",
              " 59,\n",
              " 126,\n",
              " 43,\n",
              " 126,\n",
              " 89,\n",
              " 50,\n",
              " 92,\n",
              " 38,\n",
              " 29,\n",
              " 135,\n",
              " 154,\n",
              " 71,\n",
              " 46,\n",
              " 81,\n",
              " 78,\n",
              " 84,\n",
              " 64,\n",
              " 127,\n",
              " 72,\n",
              " 64,\n",
              " 213,\n",
              " 76,\n",
              " 41,\n",
              " 259,\n",
              " 73,\n",
              " 102,\n",
              " 157,\n",
              " 67,\n",
              " 276,\n",
              " 90,\n",
              " 65,\n",
              " 253,\n",
              " 75,\n",
              " 228,\n",
              " 73,\n",
              " 80,\n",
              " 100,\n",
              " 184,\n",
              " 96,\n",
              " 63,\n",
              " 124,\n",
              " 60,\n",
              " 145,\n",
              " 88,\n",
              " 41,\n",
              " 112,\n",
              " 41,\n",
              " 137,\n",
              " 43,\n",
              " 94,\n",
              " 59,\n",
              " 81,\n",
              " 158,\n",
              " 164,\n",
              " 111,\n",
              " 63,\n",
              " 146,\n",
              " 77,\n",
              " 104,\n",
              " 89,\n",
              " 139,\n",
              " 50,\n",
              " 90,\n",
              " 54,\n",
              " 304,\n",
              " 62,\n",
              " 67,\n",
              " 41,\n",
              " 157,\n",
              " 111,\n",
              " 42,\n",
              " 57,\n",
              " 213,\n",
              " 90,\n",
              " 21,\n",
              " 50,\n",
              " 133,\n",
              " 98,\n",
              " 81,\n",
              " 53,\n",
              " 59,\n",
              " 132,\n",
              " 123,\n",
              " 300,\n",
              " 62,\n",
              " 19,\n",
              " 105,\n",
              " 65,\n",
              " 64,\n",
              " 62,\n",
              " 24,\n",
              " 74,\n",
              " 193,\n",
              " 196,\n",
              " 77,\n",
              " 56,\n",
              " 50,\n",
              " 69,\n",
              " 199,\n",
              " 53,\n",
              " 80,\n",
              " 45,\n",
              " 90,\n",
              " 129,\n",
              " 159,\n",
              " 135,\n",
              " 98,\n",
              " 58,\n",
              " 34,\n",
              " 74,\n",
              " 67,\n",
              " 62,\n",
              " 54,\n",
              " 148,\n",
              " 80,\n",
              " 126,\n",
              " 41,\n",
              " 48,\n",
              " 228,\n",
              " 75,\n",
              " 77,\n",
              " 135,\n",
              " 126,\n",
              " 111,\n",
              " 100,\n",
              " 30,\n",
              " 137,\n",
              " 53,\n",
              " 51,\n",
              " 74,\n",
              " 109,\n",
              " 176,\n",
              " 240,\n",
              " 183,\n",
              " 103,\n",
              " 47,\n",
              " 61,\n",
              " 131,\n",
              " 46,\n",
              " 123,\n",
              " 151,\n",
              " 60,\n",
              " 301,\n",
              " 154,\n",
              " 184,\n",
              " 158,\n",
              " 153,\n",
              " 105,\n",
              " 97,\n",
              " 370,\n",
              " 61,\n",
              " 123,\n",
              " 139,\n",
              " 70,\n",
              " 62,\n",
              " 74,\n",
              " 69,\n",
              " 49,\n",
              " 71,\n",
              " 31,\n",
              " 155,\n",
              " 59,\n",
              " 36,\n",
              " 55,\n",
              " 65,\n",
              " 33,\n",
              " 65,\n",
              " 66,\n",
              " 34,\n",
              " 71,\n",
              " 42,\n",
              " 144,\n",
              " 190,\n",
              " 138,\n",
              " 158,\n",
              " 178,\n",
              " 164,\n",
              " 172,\n",
              " 110,\n",
              " 87,\n",
              " 58,\n",
              " 26,\n",
              " 24,\n",
              " 69,\n",
              " 28,\n",
              " 110,\n",
              " 176,\n",
              " 144,\n",
              " 32,\n",
              " 36,\n",
              " 44,\n",
              " 216,\n",
              " 232,\n",
              " 198,\n",
              " 179,\n",
              " 69,\n",
              " 80,\n",
              " 60,\n",
              " 199,\n",
              " 115,\n",
              " 147,\n",
              " 78,\n",
              " 105,\n",
              " 93,\n",
              " 233,\n",
              " 75,\n",
              " 55,\n",
              " 114,\n",
              " 47,\n",
              " 81,\n",
              " 302,\n",
              " 60,\n",
              " 69,\n",
              " 134,\n",
              " 63,\n",
              " 52,\n",
              " 72,\n",
              " 159,\n",
              " 180,\n",
              " 33,\n",
              " 102,\n",
              " 130,\n",
              " 185,\n",
              " 187,\n",
              " 121,\n",
              " 112,\n",
              " 76,\n",
              " 59,\n",
              " 155,\n",
              " 48,\n",
              " 135,\n",
              " 37,\n",
              " 72,\n",
              " 85,\n",
              " 68,\n",
              " 48,\n",
              " 111,\n",
              " 71,\n",
              " 132,\n",
              " 21,\n",
              " 83,\n",
              " 71,\n",
              " 62,\n",
              " 68,\n",
              " 175,\n",
              " 100,\n",
              " 74,\n",
              " 71,\n",
              " 151,\n",
              " 127,\n",
              " 27,\n",
              " 293,\n",
              " 90,\n",
              " 113,\n",
              " 87,\n",
              " 57,\n",
              " 94,\n",
              " 121,\n",
              " 77,\n",
              " 150,\n",
              " 54,\n",
              " 182,\n",
              " 150,\n",
              " 237,\n",
              " 113,\n",
              " 38,\n",
              " 36,\n",
              " 22,\n",
              " 128,\n",
              " 90,\n",
              " 128,\n",
              " 72,\n",
              " 101,\n",
              " 104,\n",
              " 51,\n",
              " 110,\n",
              " 45,\n",
              " 117,\n",
              " 71,\n",
              " 173,\n",
              " 25,\n",
              " 122,\n",
              " 139,\n",
              " 142,\n",
              " 20,\n",
              " 66,\n",
              " 130,\n",
              " 104,\n",
              " 202,\n",
              " 448,\n",
              " 93,\n",
              " 53,\n",
              " 151,\n",
              " 144,\n",
              " 160,\n",
              " 111,\n",
              " 138,\n",
              " 111,\n",
              " 169,\n",
              " 53,\n",
              " 150,\n",
              " 106]"
            ]
          },
          "metadata": {},
          "execution_count": 253
        }
      ]
    },
    {
      "cell_type": "code",
      "source": [
        "#incisos b, c y d\n",
        "hist, bin_edges = np.histogram(escape, bins=20, density=True)\n",
        "norm= hist/hist.sum()\n",
        "w = np.diff(bin_edges)\n",
        "plt.bar(bin_edges[:-1], norm, width=w)\n",
        "plt.xlabel(\"Tiempo de escape\")\n",
        "plt.ylabel(\"Frecuencia\")\n",
        "plt.show()"
      ],
      "metadata": {
        "id": "JTcBvUeSFx6A",
        "colab": {
          "base_uri": "https://localhost:8080/",
          "height": 449
        },
        "outputId": "268b0b00-2afc-4372-91d5-995fecab1c4d"
      },
      "execution_count": 254,
      "outputs": [
        {
          "output_type": "display_data",
          "data": {
            "text/plain": [
              "<Figure size 640x480 with 1 Axes>"
            ],
            "image/png": "[encoded data removed]"
          },
          "metadata": {}
        }
      ]
    },
    {
      "cell_type": "code",
      "source": [
        "#inciso e\n",
        "bin_centers = (bin_edges[:-1] + bin_edges[1:]) / 2\n",
        "expected_value = np.sum(hist * bin_centers * np.diff(bin_edges))\n",
        "expected_value"
      ],
      "metadata": {
        "id": "JF15BBB6OTeM",
        "colab": {
          "base_uri": "https://localhost:8080/"
        },
        "outputId": "597e847c-597b-4e2b-b4bf-04b4ec24f1c9"
      },
      "execution_count": 255,
      "outputs": [
        {
          "output_type": "execute_result",
          "data": {
            "text/plain": [
              "107.65285"
            ]
          },
          "metadata": {},
          "execution_count": 255
        }
      ]
    },
    {
      "cell_type": "code",
      "source": [
        "#inciso f\n",
        "promedio=np.sum(bin_edges[:-1]*norm)\n",
        "promedio\n",
        "\n",
        "#El valor teórico es 100, por lo tanto, coincide en parte con el valor esperado"
      ],
      "metadata": {
        "colab": {
          "base_uri": "https://localhost:8080/"
        },
        "id": "umojU1yfNZn3",
        "outputId": "bd71ac19-40a5-4288-d4b9-fe821a8b787e"
      },
      "execution_count": 256,
      "outputs": [
        {
          "output_type": "execute_result",
          "data": {
            "text/plain": [
              "96.92785"
            ]
          },
          "metadata": {},
          "execution_count": 256
        }
      ]
    },
    {
      "cell_type": "code",
      "source": [
        "#inciso g\n",
        "Rsol= 700000\n",
        "Lc= 0.6\n",
        "escapereal=caminatas(1000,Rsol,Lc)\n",
        "hist1, bin_edges1 = np.histogram(escapereal, bins=20, density=True)\n",
        "norm1= hist1/hist1.sum()\n",
        "promedio1=np.sum(bin_edges1[:-1]*norm1)\n",
        "promedio1\n",
        "\n",
        "#Un fotón puede tardar alrededor de 100 000 años en abandonar el Sol."
      ],
      "metadata": {
        "colab": {
          "base_uri": "https://localhost:8080/",
          "height": 347
        },
        "id": "-dCr1pI6Ppsh",
        "outputId": "ecd34fcf-ef3d-47a7-f5b4-50051a4ce22b"
      },
      "execution_count": 252,
      "outputs": [
        {
          "output_type": "error",
          "ename": "KeyboardInterrupt",
          "evalue": "",
          "traceback": [
            "\u001b[0;31m---------------------------------------------------------------------------\u001b[0m",
            "\u001b[0;31mKeyboardInterrupt\u001b[0m                         Traceback (most recent call last)",
            "\u001b[0;32m<ipython-input-252-08c734ad7fc9>\u001b[0m in \u001b[0;36m<cell line: 4>\u001b[0;34m()\u001b[0m\n\u001b[1;32m      2\u001b[0m \u001b[0mRsol\u001b[0m\u001b[0;34m=\u001b[0m \u001b[0;36m700000\u001b[0m\u001b[0;34m\u001b[0m\u001b[0;34m\u001b[0m\u001b[0m\n\u001b[1;32m      3\u001b[0m \u001b[0mLc\u001b[0m\u001b[0;34m=\u001b[0m \u001b[0;36m0.6\u001b[0m\u001b[0;34m\u001b[0m\u001b[0;34m\u001b[0m\u001b[0m\n\u001b[0;32m----> 4\u001b[0;31m \u001b[0mescapereal\u001b[0m\u001b[0;34m=\u001b[0m\u001b[0mcaminatas\u001b[0m\u001b[0;34m(\u001b[0m\u001b[0;36m1000\u001b[0m\u001b[0;34m,\u001b[0m\u001b[0mRsol\u001b[0m\u001b[0;34m,\u001b[0m\u001b[0mLc\u001b[0m\u001b[0;34m)\u001b[0m\u001b[0;34m\u001b[0m\u001b[0;34m\u001b[0m\u001b[0m\n\u001b[0m\u001b[1;32m      5\u001b[0m \u001b[0mhist1\u001b[0m\u001b[0;34m,\u001b[0m \u001b[0mbin_edges1\u001b[0m \u001b[0;34m=\u001b[0m \u001b[0mnp\u001b[0m\u001b[0;34m.\u001b[0m\u001b[0mhistogram\u001b[0m\u001b[0;34m(\u001b[0m\u001b[0mescapereal\u001b[0m\u001b[0;34m,\u001b[0m \u001b[0mbins\u001b[0m\u001b[0;34m=\u001b[0m\u001b[0;36m20\u001b[0m\u001b[0;34m,\u001b[0m \u001b[0mdensity\u001b[0m\u001b[0;34m=\u001b[0m\u001b[0;32mTrue\u001b[0m\u001b[0;34m)\u001b[0m\u001b[0;34m\u001b[0m\u001b[0;34m\u001b[0m\u001b[0m\n\u001b[1;32m      6\u001b[0m \u001b[0mnorm1\u001b[0m\u001b[0;34m=\u001b[0m \u001b[0mhist1\u001b[0m\u001b[0;34m/\u001b[0m\u001b[0mhist1\u001b[0m\u001b[0;34m.\u001b[0m\u001b[0msum\u001b[0m\u001b[0;34m(\u001b[0m\u001b[0;34m)\u001b[0m\u001b[0;34m\u001b[0m\u001b[0;34m\u001b[0m\u001b[0m\n",
            "\u001b[0;32m<ipython-input-248-8a975e18a03c>\u001b[0m in \u001b[0;36mcaminatas\u001b[0;34m(pasos, R, lc)\u001b[0m\n\u001b[1;32m      6\u001b[0m     \u001b[0mx\u001b[0m\u001b[0;34m,\u001b[0m\u001b[0my\u001b[0m\u001b[0;34m,\u001b[0m\u001b[0mz\u001b[0m\u001b[0;34m=\u001b[0m\u001b[0;36m0.\u001b[0m\u001b[0;34m,\u001b[0m\u001b[0;36m0.\u001b[0m\u001b[0;34m,\u001b[0m\u001b[0;36m0.\u001b[0m\u001b[0;34m\u001b[0m\u001b[0;34m\u001b[0m\u001b[0m\n\u001b[1;32m      7\u001b[0m     \u001b[0mpasos\u001b[0m\u001b[0;34m=\u001b[0m\u001b[0;36m0\u001b[0m\u001b[0;34m\u001b[0m\u001b[0;34m\u001b[0m\u001b[0m\n\u001b[0;32m----> 8\u001b[0;31m     \u001b[0;32mwhile\u001b[0m \u001b[0mnp\u001b[0m\u001b[0;34m.\u001b[0m\u001b[0msqrt\u001b[0m\u001b[0;34m(\u001b[0m\u001b[0mx\u001b[0m\u001b[0;34m**\u001b[0m\u001b[0;36m2\u001b[0m\u001b[0;34m+\u001b[0m\u001b[0my\u001b[0m\u001b[0;34m**\u001b[0m\u001b[0;36m2\u001b[0m\u001b[0;34m+\u001b[0m\u001b[0mz\u001b[0m\u001b[0;34m**\u001b[0m\u001b[0;36m2\u001b[0m\u001b[0;34m)\u001b[0m\u001b[0;34m<=\u001b[0m\u001b[0mR\u001b[0m\u001b[0;34m:\u001b[0m\u001b[0;34m\u001b[0m\u001b[0;34m\u001b[0m\u001b[0m\n\u001b[0m\u001b[1;32m      9\u001b[0m       \u001b[0mphi\u001b[0m\u001b[0;34m=\u001b[0m\u001b[0mnp\u001b[0m\u001b[0;34m.\u001b[0m\u001b[0mrandom\u001b[0m\u001b[0;34m.\u001b[0m\u001b[0muniform\u001b[0m\u001b[0;34m(\u001b[0m\u001b[0;36m0\u001b[0m\u001b[0;34m,\u001b[0m\u001b[0;36m2\u001b[0m\u001b[0;34m*\u001b[0m\u001b[0mnp\u001b[0m\u001b[0;34m.\u001b[0m\u001b[0mpi\u001b[0m\u001b[0;34m)\u001b[0m\u001b[0;34m\u001b[0m\u001b[0;34m\u001b[0m\u001b[0m\n\u001b[1;32m     10\u001b[0m       \u001b[0mtheta\u001b[0m\u001b[0;34m=\u001b[0m\u001b[0mnp\u001b[0m\u001b[0;34m.\u001b[0m\u001b[0mrandom\u001b[0m\u001b[0;34m.\u001b[0m\u001b[0muniform\u001b[0m\u001b[0;34m(\u001b[0m\u001b[0;36m0\u001b[0m\u001b[0;34m,\u001b[0m\u001b[0mnp\u001b[0m\u001b[0;34m.\u001b[0m\u001b[0mpi\u001b[0m\u001b[0;34m)\u001b[0m\u001b[0;34m\u001b[0m\u001b[0;34m\u001b[0m\u001b[0m\n",
            "\u001b[0;31mKeyboardInterrupt\u001b[0m: "
          ]
        }
      ]
    },
    {
      "cell_type": "code",
      "source": [
        "#inciso h\n",
        "a, c, d, e = exponweib.fit(escape)  # Ajuste con Weibull\n",
        "weibull_pdf = exponweib.pdf(bin_centers, a, c, d, e)\n",
        "\n",
        "plt.figure(figsize=(8, 6))\n",
        "plt.bar(bin_centers, hist, width=np.diff(bin_edges), edgecolor='black', alpha=0.7, label=\"Distribución simulada\")\n",
        "plt.plot(bin_centers, weibull_pdf, 'r--', label=\"Ajuste Weibull\")\n",
        "plt.xlabel(\"Número de pasos\")\n",
        "plt.ylabel(\"Frecuencia normalizada\")\n",
        "plt.title(\"Distribución de pasos y ajuste Weibull\")\n",
        "plt.legend()\n",
        "plt.show()\n"
      ],
      "metadata": {
        "id": "fIWoO4EMO9el",
        "colab": {
          "base_uri": "https://localhost:8080/",
          "height": 565
        },
        "outputId": "3ce70c26-f15b-49bf-eab7-840a3953b366"
      },
      "execution_count": 257,
      "outputs": [
        {
          "output_type": "display_data",
          "data": {
            "text/plain": [
              "<Figure size 800x600 with 1 Axes>"
            ],
            "image/png": "[encoded data removed]"
          },
          "metadata": {}
        }
      ]
    }
  ]
}